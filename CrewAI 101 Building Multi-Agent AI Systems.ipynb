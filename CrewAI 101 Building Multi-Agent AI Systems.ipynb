{
 "cells": [
  {
   "cell_type": "markdown",
   "metadata": {},
   "source": [
    "<p style=\"text-align:center\">\n",
    "    <a href=\"https://skills.network\" target=\"_blank\">\n",
    "    <img src=\"https://cf-courses-data.s3.us.cloud-object-storage.appdomain.cloud/assets/logos/SN_web_lightmode.png\" width=\"200\" alt=\"Skills Network Logo\"  />\n",
    "    </a>\n",
    "</p>\n"
   ]
  },
  {
   "cell_type": "markdown",
   "metadata": {},
   "source": [
    "# **CrewAI 101: Building Multi-Agent AI Systems**\n"
   ]
  },
  {
   "cell_type": "markdown",
   "metadata": {},
   "source": [
    "Estimated time needed: **45** minutes\n"
   ]
  },
  {
   "cell_type": "markdown",
   "metadata": {},
   "source": [
    "In this lab, we build a GenAI-powered content creation pipeline designed to transform raw research into polished, insightful blog posts.\n",
    "\n",
    "We'll build a  CrewAI system which uses a sequential process where a Research Analyst agent gathers cutting-edge information from real-time tools like web search, and a Content Strategist agent who rewrites that information into clear, engaging content for a tech-savvy audience. We'll also create a workflow which demonstrates how autonomous agents can collaborate like human teams, moving from knowledge extraction to audience-ready content, without manual intervention.\n",
    "\n",
    "This project is perfect for beginners who want to learn the fundamentals of multi-agent AI automation using CrewAI. You'll see how roles, tools, and tasks come together to create streamlined, intelligent workflows that save time and enhance content quality.\n"
   ]
  },
  {
   "cell_type": "markdown",
   "metadata": {},
   "source": [
    "## __Table of Contents__\n",
    "\n",
    "<ol>\n",
    "    <li><a href=\"#Objectives\">Objectives</a></li>\n",
    "    <li>\n",
    "        <a href=\"#Setup\">Setup</a>\n",
    "        <ol>\n",
    "            <li><a href=\"#Installing-Required-Libraries\">Installing Required Libraries</a></li>\n",
    "        </ol>\n",
    "    </li>\n",
    "    <li><a href=\"#What-is-CrewAI?\">What is CrewAI?</a></li>\n",
    "    <li><a href=\"#Setting-Up-SerperDevTool\">Setting Up SerperDevTool</a></li>\n",
    "    <li><a href=\"#Setting-up-our-LLM\">Setting up our LLM</a></li>\n",
    "    <li><a href=\"#Agents-in-CrewAI\">Agents in CrewAI</a></li>\n",
    "    <li><a href=\"#Tasks-in-CrewAI\">Tasks in CrewAI</a></li>\n",
    "    <li><a href=\"#CrewAI-Workflow\">CrewAI Workflow</a></li>\n",
    "    \n",
    "    \n",
    "</ol>\n",
    "\n",
    "<a href=\"#Exercises\">Exercises</a>\n"
   ]
  },
  {
   "cell_type": "markdown",
   "metadata": {},
   "source": [
    "## Objectives\n",
    "\n",
    "After completing this lab, you will be able to:\n",
    "\n",
    "- Leverage **CrewAI** to automate multi-agent workflows for intelligent content generation.  \n",
    "- Understand the **key components of CrewAI**—agents, tasks, tools, and processes—and how they work together in a sequential pipeline.  \n",
    "- Implement **real-world AI collaboration scenarios**, such as transforming technical research into reader-friendly content.    \n",
    "- Develop foundational skills to **extend and scale CrewAI workflows** across various domains like marketing, education, and research automation.\n"
   ]
  },
  {
   "cell_type": "markdown",
   "metadata": {},
   "source": [
    "## Setup\n"
   ]
  },
  {
   "cell_type": "markdown",
   "metadata": {},
   "source": [
    "## Required Libraries\n",
    "\n",
    "For this lab, we will be using the following Python libraries:\n",
    "\n",
    "* [`crewai`](https://pypi.org/project/crewai/) – The core framework for building collaborative AI workflows using agents, tasks, and process management.\n",
    "* [`crewai-tools`](https://pypi.org/project/crewai-tools/) – A set of prebuilt tools (like web search, file I/O, and APIs) that can be used by CrewAI agents.\n",
    "* [`langchain`](https://www.langchain.com/) – Provides core utilities for working with LLMs, prompts, tools, and memory management (used under the hood by CrewAI).\n",
    "* [`langchain-community`](https://pypi.org/project/langchain-community/) – Offers integration with open-source and third-party tools used in the broader LangChain ecosystem.\n"
   ]
  },
  {
   "cell_type": "markdown",
   "metadata": {},
   "source": [
    "### Installing Required Libraries\n",
    "\n",
    "The following required libraries are __not__ pre-installed in the Skills Network Labs environment. __You will need to run the following cell__ to install them:\n"
   ]
  },
  {
   "cell_type": "code",
   "metadata": {},
   "source": [
    "%pip install langchain==0.3.20 | tail -n 1 \n%pip install crewai==0.80.0 | tail -n 1\n%pip install langchain-community==0.3.19 | tail -n 1 \n%pip install crewai-tools==0.38.0 | tail -n 1\n%pip install databricks-sdk==0.57.0| tail -n 1"
   ],
   "outputs": [],
   "execution_count": null
  },
  {
   "cell_type": "markdown",
   "metadata": {},
   "source": [
    "----\n"
   ]
  },
  {
   "cell_type": "markdown",
   "metadata": {},
   "source": [
    "## **What is CrewAI?**  \n",
    "\n",
    "CrewAI is a **cutting-edge framework** that empowers us to create and manage teams of **autonomous AI agents** designed to collaborate on complex tasks. Think of it as our ultimate toolkit for assembling a team of virtual experts, where each member plays a **specific role**, uses **unique tools**, and works toward **clear goals**. These agents aren’t just working in isolation; they collaborate, communicate, and solve problems as a synchronized team, enabling us to achieve more than ever before.   \n",
    "\n",
    "### **Why CrewAI?**  \n",
    "Imagine you’re leading a project. You need specialists—each with unique expertise—who can work together to achieve a common goal. CrewAI replicates this dynamic in the world of AI by:  \n",
    "- Assigning **roles** to agents based on their purpose (e.g., a planner, an executor, or a coordinator).  \n",
    "- Equipping them with **tools** to perform their tasks efficiently.  \n",
    "- Directing them with **goals** to ensure their efforts align with the broader mission.  \n",
    "\n",
    "This collaborative framework ensures that your AI agents can tackle challenges that are too big or too complex for a single agent to handle. Whether it's **automation**, **decision-making**, or **simulating real-world scenarios**, CrewAI empowers you to orchestrate your AI teams like never before.  \n",
    "\n",
    "### **How CrewAI Works**\n",
    "At its core, CrewAI provides us with a high-level framework to build “crews”—groups of role-playing agents that interact and collaborate to achieve shared objectives. Each agent is:  \n",
    "- **Assigned a Role:** Just like in a real team, every agent has a specialized function, whether it’s planning, executing, or coordinating tasks.  \n",
    "- **Equipped with Tools:** Agents are provided with the resources they need to perform their roles effectively.  \n",
    "- **Directed by Goals:** Clear objectives ensure that every agent’s efforts align with the crew’s mission.  \n"
   ]
  },
  {
   "cell_type": "markdown",
   "metadata": {},
   "source": [
    "## Setting Up SerperDevTool\n",
    "\n",
    "**What is Serper?**  \n",
    "Serper is a real-time Google Search API that allows AI agents to access up-to-date web information—effectively connecting your workflow to the latest content on the internet.\n",
    "\n",
    "**Why are we using Serper in our workflow?**  \n",
    "Our research agent needs current, reliable information to uncover trends, breakthroughs, and insights on evolving topics like generative AI, quantum computing, or sustainability. Without web access, the agent would be limited to static, pre-trained knowledge and unable to reflect the latest developments.\n",
    "\n",
    "To use the `SerperDevTool`, it requires an **API key**. This key grants access to the web search service and allows our agents to fetch real-time data during execution.\n",
    "\n",
    "> You will need to obtain your API Key from [serper.dev](https://serper.dev).  \n",
    "> - Sign up or log in with your email  \n",
    "> - Navigate to the **Dashboard**  \n",
    "> - Click on **API Keys**  \n",
    "> - Copy the key and replace `API_KEY` in your code with the value provided\n",
    "\n",
    "To learn more about the `SerperDevTool` and its capabilities, visit the [official documentation](https://serper.dev/).\n"
   ]
  },
  {
   "cell_type": "markdown",
   "metadata": {},
   "source": [
    "Enter  API key \n"
   ]
  },
  {
   "cell_type": "code",
   "metadata": {},
   "source": [
    "import os \nos.environ['SERPER_API_KEY'] = \"API_KEY_HERE\""
   ],
   "outputs": [],
   "execution_count": null
  },
  {
   "cell_type": "markdown",
   "metadata": {},
   "source": [
    "Import ```SerperDevTool``` from ```crewai_tools```. \n"
   ]
  },
  {
   "cell_type": "code",
   "metadata": {
    "ExecuteTime": {
     "end_time": "2025-09-25T03:45:41.926036Z",
     "start_time": "2025-09-25T03:45:41.628632Z"
    }
   },
   "source": [
    "%%capture\n\nfrom crewai_tools import SerperDevTool"
   ],
   "outputs": [
    {
     "ename": "ModuleNotFoundError",
     "evalue": "No module named 'crewai.tools'; 'crewai' is not a package",
     "output_type": "error",
     "traceback": [
      "\u001B[31m---------------------------------------------------------------------------\u001B[39m",
      "\u001B[31mModuleNotFoundError\u001B[39m                       Traceback (most recent call last)",
      "\u001B[36mCell\u001B[39m\u001B[36m \u001B[39m\u001B[32mIn[1]\u001B[39m\u001B[32m, line 1\u001B[39m\n\u001B[32m----> \u001B[39m\u001B[32m1\u001B[39m \u001B[38;5;28;01mfrom\u001B[39;00m\u001B[38;5;250m \u001B[39m\u001B[34;01mcrewai_tools\u001B[39;00m\u001B[38;5;250m \u001B[39m\u001B[38;5;28;01mimport\u001B[39;00m SerperDevTool\n",
      "\u001B[36mFile \u001B[39m\u001B[32m~\\.conda\\envs\\llm\\Lib\\site-packages\\crewai_tools\\__init__.py:1\u001B[39m\n\u001B[32m----> \u001B[39m\u001B[32m1\u001B[39m \u001B[38;5;28;01mfrom\u001B[39;00m\u001B[38;5;250m \u001B[39m\u001B[34;01m.\u001B[39;00m\u001B[34;01madapters\u001B[39;00m\u001B[34;01m.\u001B[39;00m\u001B[34;01menterprise_adapter\u001B[39;00m\u001B[38;5;250m \u001B[39m\u001B[38;5;28;01mimport\u001B[39;00m EnterpriseActionTool\n\u001B[32m      2\u001B[39m \u001B[38;5;28;01mfrom\u001B[39;00m\u001B[38;5;250m \u001B[39m\u001B[34;01m.\u001B[39;00m\u001B[34;01madapters\u001B[39;00m\u001B[34;01m.\u001B[39;00m\u001B[34;01mmcp_adapter\u001B[39;00m\u001B[38;5;250m \u001B[39m\u001B[38;5;28;01mimport\u001B[39;00m MCPServerAdapter\n\u001B[32m      3\u001B[39m \u001B[38;5;28;01mfrom\u001B[39;00m\u001B[38;5;250m \u001B[39m\u001B[34;01m.\u001B[39;00m\u001B[34;01madapters\u001B[39;00m\u001B[34;01m.\u001B[39;00m\u001B[34;01mzapier_adapter\u001B[39;00m\u001B[38;5;250m \u001B[39m\u001B[38;5;28;01mimport\u001B[39;00m ZapierActionTool\n",
      "\u001B[36mFile \u001B[39m\u001B[32m~\\.conda\\envs\\llm\\Lib\\site-packages\\crewai_tools\\adapters\\enterprise_adapter.py:7\u001B[39m\n\u001B[32m      5\u001B[39m \u001B[38;5;28;01mfrom\u001B[39;00m\u001B[38;5;250m \u001B[39m\u001B[34;01mtyping\u001B[39;00m\u001B[38;5;250m \u001B[39m\u001B[38;5;28;01mimport\u001B[39;00m List, Any, Dict, Literal, Optional, Union, get_origin, Type, cast\n\u001B[32m      6\u001B[39m \u001B[38;5;28;01mfrom\u001B[39;00m\u001B[38;5;250m \u001B[39m\u001B[34;01mpydantic\u001B[39;00m\u001B[38;5;250m \u001B[39m\u001B[38;5;28;01mimport\u001B[39;00m Field, create_model\n\u001B[32m----> \u001B[39m\u001B[32m7\u001B[39m \u001B[38;5;28;01mfrom\u001B[39;00m\u001B[38;5;250m \u001B[39m\u001B[34;01mcrewai\u001B[39;00m\u001B[34;01m.\u001B[39;00m\u001B[34;01mtools\u001B[39;00m\u001B[38;5;250m \u001B[39m\u001B[38;5;28;01mimport\u001B[39;00m BaseTool\n\u001B[32m      8\u001B[39m \u001B[38;5;28;01mimport\u001B[39;00m\u001B[38;5;250m \u001B[39m\u001B[34;01mre\u001B[39;00m\n\u001B[32m     11\u001B[39m \u001B[38;5;28;01mdef\u001B[39;00m\u001B[38;5;250m \u001B[39m\u001B[34mget_enterprise_api_base_url\u001B[39m() -> \u001B[38;5;28mstr\u001B[39m:\n",
      "\u001B[31mModuleNotFoundError\u001B[39m: No module named 'crewai.tools'; 'crewai' is not a package"
     ]
    }
   ],
   "execution_count": 1
  },
  {
   "cell_type": "markdown",
   "metadata": {},
   "source": [
    "Initialize the SerperDev search tool  object (requires an API key)\n"
   ]
  },
  {
   "cell_type": "code",
   "metadata": {},
   "source": [
    "search_tool=SerperDevTool()\nprint(type(search_tool))"
   ],
   "outputs": [],
   "execution_count": null
  },
  {
   "cell_type": "markdown",
   "metadata": {},
   "source": [
    "Run a search query \n"
   ]
  },
  {
   "cell_type": "code",
   "metadata": {},
   "source": [
    "search_query = \"Latest Breakthroughs in machine learning\"\nsearch_results =search_tool.run(query=search_query )\n\n# Print the results\nprint(f\"Search Results for '{search_results}':\\n\")"
   ],
   "outputs": [],
   "execution_count": null
  },
  {
   "cell_type": "markdown",
   "metadata": {},
   "source": [
    "The ````search_results```` dictionary has a lot of info, so here is an overview of what each key contains:\n",
    "\n",
    "\n",
    "- **searchParameters**: Query metadata (term, engine, result count)\n",
    "- **organic**: Search results (title, link, snippet, position)\n",
    "- **peopleAlsoAsk**: Related questions with answers\n",
    "- **relatedSearches**: Alternative search queries\n",
    "- **credits**: API usage tracking\n"
   ]
  },
  {
   "cell_type": "code",
   "metadata": {},
   "source": [
    "print(\"keys of search_results\", search_results.keys())"
   ],
   "outputs": [],
   "execution_count": null
  },
  {
   "cell_type": "markdown",
   "metadata": {},
   "source": [
    "## Setting up our LLM\n",
    "\n",
    "Next, we need to set up our **LLM (Large Language Model)**—this can be **any model** based on our needs. Here, we are going to use **Meta Llama 3.3 70b instruct**. The choice of model depends on factors such as **accuracy, speed, and recipe understanding** for our meal planning tasks.\n"
   ]
  },
  {
   "cell_type": "code",
   "metadata": {},
   "source": [
    "from crewai import LLM\n\nllm = LLM(\n        model=\"watsonx/meta-llama/llama-3-3-70b-instruct\",\n        base_url=\"https://us-south.ml.cloud.ibm.com\",\n        project_id=\"skills-network\",\n        max_tokens=2000,\n)"
   ],
   "outputs": [],
   "execution_count": null
  },
  {
   "cell_type": "markdown",
   "metadata": {},
   "source": [
    "## **Agents in CrewAI**  \n",
    "\n",
    "In CrewAI, **agents** are the foundational units of any multi-agent system. Each agent is designed to perform a specific role, solve tasks autonomously, and collaborate seamlessly with other agents. They’re more than mere programs—they are your specialized team members in an AI-powered ecosystem.  \n",
    "\n",
    "---\n"
   ]
  },
  {
   "cell_type": "markdown",
   "metadata": {},
   "source": [
    "\n",
    "\n",
    "A CrewAI agent isn’t just a block of code; it’s a thoughtfully designed entity with the following parameters:  \n",
    "\n",
    "1. **Role**  \n",
    "   An agent’s role defines its purpose in the system. Roles are as diverse as your project needs, such as a **\"Data Researcher\"** hunting for insights or a **\"Reporting Analyst\"** preparing comprehensive summaries.  \n",
    "\n",
    "2. **Goal**  \n",
    "   Each agent operates with a defined goal—a guiding star that shapes its decisions and actions. For instance, an agent with the goal to **“Uncover cutting-edge developments in AI”** will consistently align its behavior to fulfill this objective.  \n",
    "\n",
    "3. **Backstory**  \n",
    "   An agent’s backstory is like its resume, providing context or personality that influences how it behaves and interacts. For example, a seasoned **“Senior Data Researcher”** with years of experience might approach tasks differently from a **“Junior Analyst”** just starting out. This feature adds depth and relatability to agent interactions, making them more dynamic and tailored.  \n",
    "\n",
    "\n",
    "4. **Tools**  \n",
    "   Just like any professional needs the right tools to excel, agents in CrewAI are equipped with specialized tools to boost their performance. Whether it’s a **web search utility** for gathering information, a **data analysis engine** for crunching numbers, or an **API connector** to integrate external services, tools expand an agent’s capabilities. The right tool can help an agent complete its tasks more efficiently and effectively, enabling it to work smarter, not harder.  \n",
    "\n",
    "5. **Configuration**  \n",
    "   Agents in CrewAI are configured using simple YAML files, offering a modular, readable, and scalable approach to defining their attributes. This makes setting up agents intuitive, even for large systems ( in this tutroal we will not use a YML files \n",
    "\n",
    "\n"
   ]
  },
  {
   "cell_type": "markdown",
   "metadata": {},
   "source": [
    "####  **Defining an Agent Directly as a Python Object**\n",
    "For more flexibility or when working in a programmatic environment, you can define agents directly in your code. This approach allows you to quickly integrate dynamic parameters and logic into the agent’s setup.\n",
    "\n",
    "In this section, we're defining the research agent which will gather and analyze information from the web. This \"Senior Research Analyst\" uses the SerperDevTool to search for relevant content, working independently without delegation. The agent serves as the first step in our workflow, collecting the raw data that other agents will later refine and present.\n",
    "\n",
    "Example of defining an agent in **Python**:\n",
    "\n"
   ]
  },
  {
   "cell_type": "code",
   "metadata": {},
   "source": [
    "from crewai import Agent\n\nresearch_agent = Agent(\n  role='Senior Research Analyst',\n  goal='Uncover cutting-edge information and insights on any subject with comprehensive analysis',\n  backstory=\"\"\"You are an expert researcher with extensive experience in gathering, analyzing, and synthesizing information across multiple domains. \n  Your analytical skills allow you to quickly identify key trends, separate fact from opinion, and produce insightful reports on any topic. \n  You excel at finding reliable sources and extracting valuable information efficiently.\"\"\",\n  verbose=True,\n  allow_delegation=False,\n  llm = llm,\n  tools=[SerperDevTool()]\n)"
   ],
   "outputs": [],
   "execution_count": null
  },
  {
   "cell_type": "markdown",
   "metadata": {},
   "source": [
    "\n",
    "In this Python example, an agent is created with the same role, goal, backstory, and tools as the YAML example. However, this method allows you to easily pass in dynamic variables and parameters at runtime, making it ideal for scenarios where the agent configuration needs to change dynamically.\n"
   ]
  },
  {
   "cell_type": "code",
   "metadata": {},
   "source": [
    "research_agent"
   ],
   "outputs": [],
   "execution_count": null
  },
  {
   "cell_type": "markdown",
   "metadata": {},
   "source": [
    "In CrewAI, we use multiple specialized agents to complete complex tasks through collaboration. In our research-report example:\n",
    "\n",
    "1. We created a **Researcher Agent** that gathers information\n",
    "2. Now we will create a **Writer Agent** that takes the output from our Researcher Agent\n",
    "3. The Writer transforms research findings into well-structured content for the target audience\n",
    "\n",
    "Let's create the writer agent with the following parameters:\n",
    "\n",
    "* **role**: 'Tech Content Strategist' - Job function within the workflow\n",
    "* **goal**: 'Craft well-structured and engaging content based on research findings' - The agent's specific objective\n",
    "* **backstory**: Background that shapes the agent's approach and style\n",
    "* **verbose**: True - Controls logging detail level\n",
    "* **allow_delegation**: True - Enables task assignment to other agents\n"
   ]
  },
  {
   "cell_type": "code",
   "metadata": {},
   "source": [
    "# Define your agents with roles and goals\n# Define the Writer Agent\nwriter_agent = Agent(\n  role='Tech Content Strategist',\n  goal='Craft well-structured and engaging content based on research findings',\n  backstory=\"\"\"You are a skilled content strategist known for translating \n  complex topics into clear and compelling narratives. Your writing makes \n  information accessible and engaging for a wide audience.\"\"\",\n  verbose=True,\n  llm = llm,\n  allow_delegation=True\n)"
   ],
   "outputs": [],
   "execution_count": null
  },
  {
   "cell_type": "code",
   "metadata": {},
   "source": [
    "writer_agent "
   ],
   "outputs": [],
   "execution_count": null
  },
  {
   "cell_type": "markdown",
   "metadata": {},
   "source": [
    "## **Tasks in CrewAI**\n",
    "Tasks are like to-do items for our AI agents. Each task has specific instructions, details, and tools for the agent to follow and complete the job.\n",
    "\n",
    "For example:\n",
    "- A task could ask an agent to \"research the latest AI trends.\"\n",
    "- Another task could ask a different agent to \"write a detailed report based on the research.\"\n",
    "\n"
   ]
  },
  {
   "cell_type": "markdown",
   "metadata": {},
   "source": [
    "Here is an outline of the porcess:\n",
    "\n",
    "1. **Define agents** with their roles, goals, and tools\n",
    "2. **Create tasks** and assign them to specific agents\n",
    "3. **Combine agents and tasks** into a Crew with an execution process\n"
   ]
  },
  {
   "cell_type": "markdown",
   "metadata": {},
   "source": [
    "#### **How Tasks Work**  \n",
    "There are two ways tasks can run:  \n",
    "\n",
    "1. **Sequential**: Tasks are executed one after the other, like following a recipe step-by-step. Each task waits for the previous one to finish.  \n",
    "2. **Hierarchical**: Tasks are assigned based on agent skills or roles, and multiple tasks can run in parallel if they don’t depend on each other.  \n",
    "\n",
    "\n"
   ]
  },
  {
   "cell_type": "markdown",
   "metadata": {},
   "source": [
    "#### **What Can a Task Include?**\n",
    "Each task has these details:\n",
    "- **Description**: What needs to be done.\n",
    "- **Expected Output**: What the result should look like.\n",
    "- **Agent**: Who’s responsible for the task.\n",
    "- **Tools**: The tools the agent can use for this task.\n",
    "- **Context**: Outputs from other tasks that help this task.\n",
    "- **Async Execution**: Whether the task runs in the background or not.\n",
    "- **Output Format**: Whether the results are plain text, JSON, or a structured model.\n"
   ]
  },
  {
   "cell_type": "markdown",
   "metadata": {},
   "source": [
    "Here's how we set up a Crew (our team of agents) and tasks in code `research_task` and `writer_task`. \n",
    "\n",
    "In this step, we define a Task for the Researcher Agent. This task will involve gathering and analyzing key insights on any topic specified through the `{topic}` parameter. The agent will use the SerperDevTool to uncover major trends, identify new technologies, and evaluate their effects on the industry. This flexible approach allows us to research different subjects by simply changing the input parameter when kicking off the crew.\n"
   ]
  },
  {
   "cell_type": "code",
   "metadata": {},
   "source": [
    "from crewai import Task\n\nresearch_task = Task(\n  description=\"Analyze the major {topic}, identifying key trends and technologies. Provide a detailed report on their potential impact.\",\n  agent=research_agent,\n  expected_output=\"A detailed report on {topic}, including trends, emerging technologies, and their impact.\"\n)"
   ],
   "outputs": [],
   "execution_count": null
  },
  {
   "cell_type": "markdown",
   "metadata": {},
   "source": [
    "Now, we will define the task for the Writer Agent, who will take the research findings and transform them into a well-structured article. The Writer Agent will ensure the content is engaging, informative, and easy to understand, making complex topics more accessible.\n"
   ]
  },
  {
   "cell_type": "code",
   "metadata": {},
   "source": [
    "# Create a task for the Writer Agent\nwriter_task = Task(\n  description=\"Create an engaging blog post based on the research findings about {topic}. Tailor the content for a tech-savvy audience, ensuring clarity and interest.\",\n  agent=writer_agent,\n  expected_output=\"A 4-paragraph blog post on {topic}, written clearly and engagingly for tech enthusiasts.\"\n)"
   ],
   "outputs": [],
   "execution_count": null
  },
  {
   "cell_type": "markdown",
   "metadata": {},
   "source": [
    "## CrewAI Workflow\n",
    "\n",
    "The  `Crew` object, which is the central orchestration mechanism in CrewAI. This crew brings together our specialized agents and their assigned tasks into a cohesive workflow.\n",
    "\n",
    "The `Crew` constructor takes several important parameters:\n",
    "- `agents`: A list of the AI agents that will be part of this crew ```research_agent``` abd  ```writer_agent```\n",
    "- `tasks`: A list of specific tasks these agents will perform ```research_task``` and ```writer_task```\n",
    "- `process`: Defines how tasks will be executed - in this case `Process.sequential means tasks will run one after another in the specified order (research first, then writing)\n",
    "- `verbose`: When set to `True`, this enables detailed logging, making it easier to follow the crew's execution and troubleshoot any issues\n",
    "\n",
    "Once configured, you can start the entire workflow with a single command: `crew.kickoff()`, which will execute the tasks in sequence and return the final results.\n"
   ]
  },
  {
   "cell_type": "code",
   "metadata": {},
   "source": [
    "from crewai import Crew, Process\n\ncrew = Crew(\n    agents=[research_agent, writer_agent],\n    tasks=[research_task, writer_task],\n    process=Process.sequential,\n    verbose=True \n)"
   ],
   "outputs": [],
   "execution_count": null
  },
  {
   "cell_type": "markdown",
   "metadata": {},
   "source": [
    "The method ```kickoff()``` sets everything rolling - it starts all your agents working on their tasks and returns the results when they're done. By using ```inputs={\"topic\": \"quantum computing breakthroughs of 2024\"}```, we can specify exactly what subject our agents should research, making our system flexible enough to analyze any topic without changing the task definitions.\n"
   ]
  },
  {
   "cell_type": "code",
   "metadata": {},
   "source": [
    "result = crew.kickoff(inputs={\"topic\": \"Latest Generative AI breakthroughs\"})"
   ],
   "outputs": [],
   "execution_count": null
  },
  {
   "cell_type": "markdown",
   "metadata": {},
   "source": [
    "The result is a ```crew_output``` \n"
   ]
  },
  {
   "cell_type": "code",
   "metadata": {},
   "source": [
    "type(result)"
   ],
   "outputs": [],
   "execution_count": null
  },
  {
   "cell_type": "code",
   "metadata": {},
   "source": [
    "result"
   ],
   "outputs": [],
   "execution_count": null
  },
  {
   "cell_type": "markdown",
   "metadata": {},
   "source": [
    "The `result.raw` output text contains the final content produced by our last agent in the workflow. We can easily access this text to see the complete results:\n"
   ]
  },
  {
   "cell_type": "code",
   "metadata": {},
   "source": [
    "final_output = result.raw\nprint(\"Final output:\", final_output)"
   ],
   "outputs": [],
   "execution_count": null
  },
  {
   "cell_type": "markdown",
   "metadata": {},
   "source": [
    "The `tasks_output` list gives us access to outputs from each task in the order they were executed:\n"
   ]
  },
  {
   "cell_type": "code",
   "metadata": {},
   "source": [
    "tasks_outputs = result.tasks_output"
   ],
   "outputs": [],
   "execution_count": null
  },
  {
   "cell_type": "markdown",
   "metadata": {},
   "source": [
    "We see the output of the research task object. This lets us access both the task description and the content the agent produced:\n"
   ]
  },
  {
   "cell_type": "code",
   "metadata": {},
   "source": [
    "print(\"Task Description\", tasks_outputs[0].description)\nprint(\"Output of research task \",tasks_outputs[0])"
   ],
   "outputs": [],
   "execution_count": null
  },
  {
   "cell_type": "markdown",
   "metadata": {},
   "source": [
    "We also have the description and output for the writer task using the raw property:\n"
   ]
  },
  {
   "cell_type": "code",
   "metadata": {},
   "source": [
    "print(\"Writer task description:\", tasks_outputs[1].description)\nprint(\" \\nOutput of writer task:\", tasks_outputs[1].raw)"
   ],
   "outputs": [],
   "execution_count": null
  },
  {
   "cell_type": "markdown",
   "metadata": {},
   "source": [
    "\n",
    "In addition to the task output, we can access the agent that performed each task:\n"
   ]
  },
  {
   "cell_type": "code",
   "metadata": {},
   "source": [
    "print(\"We can get the agent for researcher task:  \",tasks_outputs[0].agent)\nprint(\"We can get the agent for the writer task: \",tasks_outputs[1].agent)"
   ],
   "outputs": [],
   "execution_count": null
  },
  {
   "cell_type": "markdown",
   "metadata": {},
   "source": [
    "---\n",
    "After your agents complete their tasks, CrewAI provides detailed performance metrics that help you monitor resource usage and optimize your multi-agent systems. Token usage analytics are particularly important as they directly impact operational costs and system efficiency.\n"
   ]
  },
  {
   "cell_type": "code",
   "metadata": {},
   "source": [
    "token_count = result.token_usage.total_tokens\nprompt_tokens = result.token_usage.prompt_tokens\ncompletion_tokens = result.token_usage.completion_tokens\n\nprint(f\"Total tokens used: {token_count}\")\nprint(f\"Prompt tokens: {prompt_tokens} (used for instructions to the model)\")\nprint(f\"Completion tokens: {completion_tokens} (generated in response)\")"
   ],
   "outputs": [],
   "execution_count": null
  },
  {
   "cell_type": "markdown",
   "metadata": {},
   "source": [
    "## Exercises \n",
    "In these exercises, you will create a web publishing component for your fact-checking application by implementing a web designer agent and task. This final piece will transform the analyzed and written content into a professional webpage that presents verification results clearly to users.\n"
   ]
  },
  {
   "cell_type": "markdown",
   "metadata": {},
   "source": [
    "### Exercise 1: Create a Social Media Strategist Agent\n",
    "\n",
    "Create a Social Media Agent which curates a summary and a short-form version (such as tweets or LinkedIn posts).\n"
   ]
  },
  {
   "cell_type": "code",
   "metadata": {},
   "source": [
    "#TODO"
   ],
   "outputs": [],
   "execution_count": null
  },
  {
   "cell_type": "markdown",
   "metadata": {},
   "source": [
    "<details>\n",
    "    <summary>Click here for the solution</summary>\n",
    "\n",
    "```python\n",
    "\n",
    "social_agent = Agent(\n",
    "    role='Social Media Strategist',\n",
    "    goal='Generate engaging social media snippets based on the full article',\n",
    "    backstory=\"A digital storyteller who excels at crafting compelling posts to drive engagement and traffic.\",\n",
    "    verbose=True\n",
    ")\n",
    "\n",
    "\n",
    "```\n",
    "\n",
    "</details>\n"
   ]
  },
  {
   "cell_type": "markdown",
   "metadata": {},
   "source": [
    "### Exercise 2: Defining a Social Media Strategy Task\n",
    "\n",
    "Create a task for the Social Media Strategist agent to generate engaging and platform-specific posts (such as LinkedIn or X/Twitter) based on the research and blog content. This agent will help amplify the reach of your content by distilling key insights into short, compelling messages.\n"
   ]
  },
  {
   "cell_type": "code",
   "metadata": {},
   "source": [
    "#TODO"
   ],
   "outputs": [],
   "execution_count": null
  },
  {
   "cell_type": "markdown",
   "metadata": {},
   "source": [
    "<details>\n",
    "    <summary>Click here for the solution</summary>\n",
    "\n",
    "```python\n",
    "social_task = Task(\n",
    "    description=(\n",
    "        \"Summarize the blog post about {topic} into 2–3 engaging social media posts \"\n",
    "        \"suitable for platforms like LinkedIn or Twitter. Make sure the tone is informative, \"\n",
    "        \"professional, and encourages further reading.\"\n",
    "    ),\n",
    "    agent=social_agent,\n",
    "    expected_output=\"A series of 2–3 well-written social posts highlighting the key insights from the blog content.\"\n",
    ")\n",
    "```\n",
    "\n",
    "</details>\n"
   ]
  },
  {
   "cell_type": "markdown",
   "metadata": {},
   "source": [
    "### Exercise 3: Create a Complete Crew Object \n",
    "\n",
    "Include research, writing, and social media agents along with their tasks, configured for sequential processing with verbose output and apply the method ```kickoff()``` method.\n"
   ]
  },
  {
   "cell_type": "code",
   "metadata": {},
   "source": [
    "#TODO"
   ],
   "outputs": [],
   "execution_count": null
  },
  {
   "cell_type": "markdown",
   "metadata": {},
   "source": [
    "<details>\n",
    "    <summary>Click here for the solution</summary>\n",
    "\n",
    "```python\n",
    "crew = Crew(\n",
    "    agents=[research_agent, writer_agent, social_agent],\n",
    "    tasks=[research_task, writer_task, social_task],\n",
    "    process=Process.sequential,  # Tasks will be executed one after another\n",
    "    verbose=True\n",
    ")\n",
    "\n",
    "# Run the crew and capture the final output (includes research, blog post, and social media content)\n",
    "result = crew.kickoff(inputs={\"topic\": \"Latest Generative AI breakthroughs\"})\n",
    "```\n",
    "\n",
    "</details>\n"
   ]
  },
  {
   "cell_type": "markdown",
   "metadata": {},
   "source": [
    "## Authors\n"
   ]
  },
  {
   "cell_type": "markdown",
   "metadata": {},
   "source": [
    "[Karan Goswami](https://author.skills.network/instructors/karan_goswami)\n",
    "\n",
    "[Kunal Makwana](https://author.skills.network/instructors/kunal_makwana)\n"
   ]
  },
  {
   "cell_type": "markdown",
   "metadata": {},
   "source": [
    "## Change Log\n",
    "\n",
    "<details>\n",
    "    <summary>Click here for the changelog</summary>\n",
    "\n",
    "|Date (YYYY-MM-DD)|Version|Changed By|Change Description|\n",
    "|-|-|-|-|\n",
    "|2025-07-17|0.1|Karan Goswami|Initial version created|\n",
    "|2025-07-22|0.2|Steve Ryan|ID review|\n",
    "\n",
    "</details>\n",
    "\n",
    "---\n",
    "\n",
    "\n",
    "Copyright © IBM Corporation. All rights reserved.\n"
   ]
  }
 ],
 "metadata": {
  "kernelspec": {
   "display_name": "Python 3 (ipykernel)",
   "language": "python",
   "name": "python3"
  },
  "language_info": {
   "codemirror_mode": {
    "name": "ipython",
    "version": 3
   },
   "file_extension": ".py",
   "mimetype": "text/x-python",
   "name": "python",
   "nbconvert_exporter": "python",
   "pygments_lexer": "ipython3",
   "version": "3.12.8"
  },
  "prev_pub_hash": "5b234fe413aef6fba0ec65d459d1dea37b8056ba10d7f08d7ca7267857dd2754"
 },
 "nbformat": 4,
 "nbformat_minor": 4
}
