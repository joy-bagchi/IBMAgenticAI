{
 "cells": [
  {
   "cell_type": "markdown",
   "metadata": {},
   "source": [
    "<p style=\"text-align:center\">\n",
    "    <a href=\"https://skills.network\" target=\"_blank\">\n",
    "    <img src=\"https://cf-courses-data.s3.us.cloud-object-storage.appdomain.cloud/assets/logos/SN_web_lightmode.png\" width=\"200\" alt=\"Skills Network Logo\"  />\n",
    "    </a>\n",
    "</p>\n"
   ]
  },
  {
   "cell_type": "markdown",
   "metadata": {},
   "source": [
    "#  Implement Workflow Patterns with LangGraph\n",
    "\n",
    "Estimated time needed: **45** minutes\n",
    "\n",
    "## Introduction\n",
    "In this lab, you'll master the three essential workflow patterns that transform individual AI models into sophisticated, coordinated systems. Through hands-on projects using LangGraph and LangChain, you'll build job application assistants, intelligent task routers, and multilingual processors that demonstrate real-world multi-agent coordination.\n",
    "These proven patterns - Sequential Agent Coordination, Intent-Based Routing, and Parallel Agent Execution - form the foundation of every enterprise AI system. By the end, you'll have the architectural knowledge to create AI applications that intelligently orchestrate multiple specialized agents to solve complex problems.\n"
   ]
  },
  {
   "cell_type": "markdown",
   "metadata": {},
   "source": [
    "## __Table of Contents__\n",
    "\n",
    "<ol>\n",
    "    <li><a href=\"#Prompt-Chaining\">Prompt Chaining</a></li>\n",
    "    <li><a href=\"#Resume-Summary-Agent\">Resume Summary Agent</a></li>\n",
    "    <li><a href=\"#Generate-Cover-Letter-Agent\">Generate Cover Letter Agent</a></li>\n",
    "    <li><a href=\"#LangGraph-Workflow\">LangGraph Workflow</a></li>\n",
    "    <li><a href=\"#Initializing-the-LangGraph-Workflow\">Initializing the LangGraph Workflow</a></li>\n",
    "    <li><a href=\"#Workflow-Pattern:-Routing\">Workflow Pattern: Routing</a></li>\n",
    "    <li><a href=\"#Workflow-Pattern:-Parallelization\">Workflow Pattern: Parallelization</a></li>\n",
    "    </ol>\n",
    "\n",
    "<a href=\"#Exercises:-Building-a-Multi-Agent-Routing-System\">Exercises: Building a Multi-Agent Routing System</a>\n",
    "\n",
    "\n"
   ]
  },
  {
   "cell_type": "markdown",
   "metadata": {},
   "source": [
    "\n"
   ]
  },
  {
   "cell_type": "code",
   "metadata": {
    "ExecuteTime": {
     "end_time": "2025-09-23T02:51:08.883852Z",
     "start_time": "2025-09-23T02:51:04.914188Z"
    }
   },
   "source": [
    "%%capture\n%pip install langchain-openai==0.3.27\n%pip install langgraph==0.6.6\n%pip install pygraphviz==1.14"
   ],
   "outputs": [],
   "execution_count": 1
  },
  {
   "cell_type": "code",
   "metadata": {
    "ExecuteTime": {
     "end_time": "2025-09-23T06:05:58.916174Z",
     "start_time": "2025-09-23T06:05:56.869630Z"
    }
   },
   "source": [
    "from langgraph.graph import StateGraph, END,START\n",
    "from typing import TypedDict\n",
    "from pydantic import BaseModel, Field\n",
    "from langchain_openai import ChatOpenAI"
   ],
   "outputs": [
    {
     "name": "stderr",
     "output_type": "stream",
     "text": [
      "C:\\Users\\joyba\\.conda\\envs\\llm\\Lib\\site-packages\\requests\\__init__.py:86: RequestsDependencyWarning: Unable to find acceptable character detection dependency (chardet or charset_normalizer).\n",
      "  warnings.warn(\n"
     ]
    }
   ],
   "execution_count": 1
  },
  {
   "cell_type": "code",
   "metadata": {
    "ExecuteTime": {
     "end_time": "2025-09-23T06:07:03.426705Z",
     "start_time": "2025-09-23T06:07:03.409756Z"
    }
   },
   "source": [
    "def print_workflow_info(workflow, app=None):\n    \"\"\"Prints comprehensive information about a LangGraph workflow.\"\"\"\n    print(\"WORKFLOW INFORMATION\")\n    print(\"====================\")\n    print(f\"Nodes: {workflow.nodes}\")\n    print(f\"Edges: {workflow.edges}\")\n\n    \n    # Use getter method for finish points if available\n    try:\n        finish_points = workflow.finish_points\n        print(f\"Finish points: {finish_points}\")\n    except:\n        try:\n            # Alternative approaches\n            print(f\"Finish point: {workflow._finish_point}\")\n        except:\n            print(\"Finish points attribute not directly accessible\")\n    \n    if app:\n        print(\"\\nWorkflow Visualization:\")\n        from IPython.display import display\n        display(app.get_graph().draw_png())"
   ],
   "outputs": [],
   "execution_count": 2
  },
  {
   "cell_type": "markdown",
   "metadata": {},
   "source": [
    "\n",
    "Now we are going to instantiate the `ChatOpenAI` class with the `gpt-4o-mini` model. This instance, stored in the variable `llm`, will be used to handle all LLM-based interactions throughout our workflows.\n"
   ]
  },
  {
   "cell_type": "code",
   "metadata": {
    "ExecuteTime": {
     "end_time": "2025-09-23T06:07:17.768711Z",
     "start_time": "2025-09-23T06:07:09.580773Z"
    }
   },
   "source": [
    "llm = ChatOpenAI(model=\"gpt-4o-mini\")"
   ],
   "outputs": [],
   "execution_count": 3
  },
  {
   "cell_type": "markdown",
   "metadata": {},
   "source": [
    "### Prompt Chaining\n",
    "\n",
    "Prompt Chaining is a workflow design pattern where complex tasks are decomposed into a sequence of LLM (Large Language Model) calls. Each step depends on the output of the previous one, allowing for step-by-step refinement or evolution of the data being processed. This method mirrors how humans tackle multifaceted problems—by breaking them down into manageable steps.\n",
    "\n",
    "It leverages **function calling**, **sequential chaining** and or **AI Agents** , often implemented using frameworks such as **LangChain**, **LangGraph**, or even custom scripts. The key is modularity and clarity—each node (or step) has a specific role in the overall pipeline. Each link in the chain is a tool call or Agent the structure of which is something like the following:\n",
    "\n",
    "#### Typical Structure:\n",
    "- **Step 1:** Initial LLM prompt (for example, generate a draft)\n",
    "- **Step 2:** Refinement prompt (for example, improve style, tone)\n",
    "- **Step 3:** Evaluation or formatting (for example, convert to specific format or assess quality)\n",
    "\n",
    "This pattern also allows injecting **external tools** between steps (for example, validation, summarization, keyword extraction).\n",
    "\n",
    "---\n",
    "\n",
    "#### Use Cases:\n",
    "- Generating blog posts or marketing copy step-by-step (idea → outline → paragraph → polish)\n",
    "- Automated report generation (for example, extract → analyze → summarize)\n",
    "- Educational content creation (for example, topic → questions → answers → explanations)\n",
    "\n",
    "---\n"
   ]
  },
  {
   "cell_type": "markdown",
   "metadata": {},
   "source": [
    "### Use Case: Prompt Chaining — Job Application Assistant\n",
    "\n",
    "In this workflow, we are going to build a simple **job application assistant** using the Prompt Chaining pattern. The goal is to help a user create a **personalized cover letter** from a given job description.\n",
    "\n",
    "We will break the task into two sequential steps:\n",
    "1. First, the LLM will read the **job description** and generate a **resume summary** tailored to that role.\n",
    "2. Then, using this summary, the LLM will generate a professional **cover letter** suitable for submitting with a job application.\n"
   ]
  },
  {
   "cell_type": "markdown",
   "metadata": {},
   "source": [
    "For this workflow, we need a structured way to manage the data passed between each step. To achieve this, we define a `ChainState` using `TypedDict`. This state will act as a shared container for all intermediate and final outputs.\n",
    "\n",
    "- First, we have `job_description`, which will store the input provided by the user, typically a job posting or role summary.\n",
    "- Then, we include `resume_summary`, which will hold the tailored summary of the applicant’s profile generated by the LLM based on the job description.\n",
    "- Finally, we have `cover_letter`, where the personalized cover letter will be stored after the second LLM call completes. \n"
   ]
  },
  {
   "cell_type": "code",
   "metadata": {
    "ExecuteTime": {
     "end_time": "2025-09-23T06:07:23.084676Z",
     "start_time": "2025-09-23T06:07:23.080797Z"
    }
   },
   "source": [
    "class ChainState(TypedDict):\n",
    "    job_description: str\n",
    "    resume_summary: str\n",
    "    cover_letter: str"
   ],
   "outputs": [],
   "execution_count": 4
  },
  {
   "cell_type": "markdown",
   "metadata": {},
   "source": [
    "We can represent an instance of the ChainState class as a Python dictionary. In the Prompt Chaining pattern, here's how the state evolves:\n",
    "```python\n",
    "\n",
    "state = {\n",
    "    \"job_description\": \"\", \n",
    "    \"resume_summary\": \"\",\n",
    "    \"cover_letter\": \"\"\n",
    "}\n",
    "```\n",
    "```Initial State```: The workflow begins with a dictionary containing only the job description:\n",
    "\n",
    "```python\n",
    "state = {\n",
    "    \"job_description\": \"\"We are looking for a data scientist with experience in machine learning, NLP..\", \n",
    "    \"resume_summary\": \"\",\n",
    "    \"cover_letter\": \"\"\n",
    "}\n",
    "```\n",
    "\n",
    "The  next state is given by:\n",
    "```python\n",
    "state = {\n",
    "    \"job_description\": \"\"We are looking for a data scientist with experience in machine learning, NLP..\", \n",
    "    \"resume_summary\": \"Results-driven data scientist with expertise in machine learning...\",\n",
    "    \"cover_letter\": \"\"\n",
    "}\n",
    "```\n",
    "and so on.\n"
   ]
  },
  {
   "cell_type": "markdown",
   "metadata": {},
   "source": [
    "Now, let's see how to build a prompt chain using a series of LLM calls—as in, agents. We'll demonstrate the process, which is summarized in the following image. The input is a state variable containing the job description. This is first passed to the Resume Summary agent, which generates a summary of the resume and stores it under the key resume_summary. That output is then used as input for the Generate Cover Letter agent, which produces a cover letter and fills in the key cover_letter.\n",
    "![Screenshot 2025-04-24 at 12.03.31 PM.png](https://cf-courses-data.s3.us.cloud-object-storage.appdomain.cloud/hseuyL5ddwU6cvKXrVGQnw/Screenshot%202025-04-24%20at%2012-03-31%E2%80%AFPM.png)\n"
   ]
  },
  {
   "cell_type": "markdown",
   "metadata": {},
   "source": [
    "### Resume Summary Agent\n",
    "\n",
    "In LLM workflows, an \"agent\" is created through a prompt that gives the LLM specific instructions and persona. The generate_resume_summary node demonstrates this by transforming the LLM into a \"resume assistant\" through its prompt. This node receives the state containing the job description, processes it using the agent created by the prompt, and returns an updated state with the new resume summary.\n",
    "Nodes provide the workflow structure while prompts define agent capabilities. The state object serves as shared memory between nodes, allowing each agent to build upon previous work while using the same underlying LLM instance.\n"
   ]
  },
  {
   "cell_type": "code",
   "metadata": {
    "ExecuteTime": {
     "end_time": "2025-09-23T06:07:26.979351Z",
     "start_time": "2025-09-23T06:07:26.975585Z"
    }
   },
   "source": [
    "def generate_resume_summary(state: ChainState) -> ChainState:\n    prompt = f\"\"\"\nYou're a resume assistant. Read the following job description and summarize the key qualifications and experience the ideal candidate should have, phrased as if from the perspective of a strong applicant's resume summary.\n\nJob Description:\n{state['job_description']}\n\"\"\"\n\n    response = llm.invoke(prompt)\n\n    return {**state, \"resume_summary\": response.content}"
   ],
   "outputs": [],
   "execution_count": 5
  },
  {
   "cell_type": "markdown",
   "metadata": {},
   "source": [
    "|The agent starts with this initial state and passes it to the first node, generate_resume_summary. Inside that function, it can access the job description using ```state['job_description']```, which will serve as the input later on.\n",
    "\n",
    "When the function returns, it uses Python’s dictionary unpacking syntax: **state**. This means “create a new dictionary that includes all the key-value pairs from the original state dictionary, and then add or update specific keys.” In this case, it updates the \"resume_summary\" field with the newly generated content.\n",
    "The state varable would look like this:\n",
    "\n",
    "```python\n",
    "state = {\n",
    "    \"job_description\": \"\"We are looking for a data scientist with experience in machine learning, NLP..\", \n",
    "    \"resume_summary\": \"Results-driven data scientist with expertise in machine learning...\",\n",
    "    \"cover_letter\": \"\"\n",
    "}\n",
    "```\n"
   ]
  },
  {
   "cell_type": "markdown",
   "metadata": {},
   "source": [
    "### Generate Cover Letter Agent\n",
    "\n",
    "\n",
    "The ```generate_cover_letter``` node defines our second agent in the workflow. This function creates a specialized agent through its prompt This agent accesses both ```state['resume_summary']``` and ```state['job_description'] ```from the current state, leveraging both the output from the previous agent and the original input. The prompt transforms the LLM into a cover letter specialist that synthesizes these elements into a tailored application document. The agent's output is then added to the state dictionary under the ```cover_letter``` key, completing the workflow chain with a state object containing all three key elements.\n"
   ]
  },
  {
   "cell_type": "code",
   "metadata": {
    "ExecuteTime": {
     "end_time": "2025-09-23T06:07:28.914661Z",
     "start_time": "2025-09-23T06:07:28.910374Z"
    }
   },
   "source": [
    "def generate_cover_letter(state: ChainState) -> ChainState:\n    prompt = f\"\"\"\nYou're a cover letter writing assistant. Using the resume summary below, write a professional and personalized cover letter for the following job.\n\nResume Summary:\n{state['resume_summary']}\n\nJob Description:\n{state['job_description']}\n\"\"\"\n\n    response = llm.invoke(prompt)\n\n    return {**state, \"cover_letter\": response.content}"
   ],
   "outputs": [],
   "execution_count": 6
  },
  {
   "cell_type": "markdown",
   "metadata": {},
   "source": [
    "## LangGraph Workflow \n",
    "### Initializing the LangGraph Workflow\n",
    "\n",
    "\n",
    "\n",
    "This line creates a new `StateGraph` instance and configures it with our `ChainState` definition. This crucial step establishes the workflow's foundation by specifying the structure of data that will flow through the nodes. The `StateGraph` uses the `ChainState` TypedDict to validate data types for each field (`job_description`, `resume_summary`, and `cover_letter`), ensuring proper information passing between nodes. This data contract enables LangGraph to manage state transitions efficiently as the workflow progresses from node to node.\n"
   ]
  },
  {
   "cell_type": "code",
   "metadata": {
    "ExecuteTime": {
     "end_time": "2025-09-23T06:07:31.097785Z",
     "start_time": "2025-09-23T06:07:31.095245Z"
    }
   },
   "source": "workflow = StateGraph(ChainState)\n",
   "outputs": [],
   "execution_count": 7
  },
  {
   "cell_type": "markdown",
   "metadata": {},
   "source": [
    "We are adding two nodes to our workflow graph. Each node represents a distinct step in the prompt chaining process:\n",
    "\n",
    "- `\"generate_resume_summary\"` is the first node, which generates a tailored summary based on the job description.\n",
    "- `\"generate_cover_letter\"` is the second node, which uses that summary to create a personalized cover letter.\n"
   ]
  },
  {
   "cell_type": "code",
   "metadata": {
    "ExecuteTime": {
     "end_time": "2025-09-23T06:07:33.829930Z",
     "start_time": "2025-09-23T06:07:33.822386Z"
    }
   },
   "source": [
    "workflow.add_node(\"generate_resume_summary\", generate_resume_summary)\nworkflow.add_node(\"generate_cover_letter\", generate_cover_letter)"
   ],
   "outputs": [
    {
     "data": {
      "text/plain": [
       "<langgraph.graph.state.StateGraph at 0x18e957d1d30>"
      ]
     },
     "execution_count": 8,
     "metadata": {},
     "output_type": "execute_result"
    }
   ],
   "execution_count": 8
  },
  {
   "cell_type": "markdown",
   "metadata": {},
   "source": [
    "Setting the **entry point** of the workflow to `\"generate_resume_summary\"`. This means that when the workflow is executed, it will start with this node.\n"
   ]
  },
  {
   "cell_type": "code",
   "metadata": {
    "ExecuteTime": {
     "end_time": "2025-09-23T06:07:35.018576Z",
     "start_time": "2025-09-23T06:07:35.013911Z"
    }
   },
   "source": [
    "workflow.set_entry_point(\"generate_resume_summary\")"
   ],
   "outputs": [
    {
     "data": {
      "text/plain": [
       "<langgraph.graph.state.StateGraph at 0x18e957d1d30>"
      ]
     },
     "execution_count": 9,
     "metadata": {},
     "output_type": "execute_result"
    }
   ],
   "execution_count": 9
  },
  {
   "cell_type": "markdown",
   "metadata": {},
   "source": [
    "Now we are defining the **connection between two nodes** by adding an edge from `\"generate_resume_summary\"` to `\"generate_cover_letter\"`. This tells the workflow to pass the state from the first node to the second, forming a sequential chain.\n"
   ]
  },
  {
   "cell_type": "code",
   "metadata": {
    "ExecuteTime": {
     "end_time": "2025-09-23T06:07:36.497540Z",
     "start_time": "2025-09-23T06:07:36.493396Z"
    }
   },
   "source": [
    "workflow.add_edge(\"generate_resume_summary\", \"generate_cover_letter\")"
   ],
   "outputs": [
    {
     "data": {
      "text/plain": [
       "<langgraph.graph.state.StateGraph at 0x18e957d1d30>"
      ]
     },
     "execution_count": 10,
     "metadata": {},
     "output_type": "execute_result"
    }
   ],
   "execution_count": 10
  },
  {
   "cell_type": "markdown",
   "metadata": {},
   "source": [
    "Now we are marking `\"generate_cover_letter\"` as the final node, indicating where the workflow should end.\n"
   ]
  },
  {
   "cell_type": "code",
   "metadata": {
    "ExecuteTime": {
     "end_time": "2025-09-23T06:07:39.132781Z",
     "start_time": "2025-09-23T06:07:39.128417Z"
    }
   },
   "source": [
    "workflow.set_finish_point(\"generate_cover_letter\")"
   ],
   "outputs": [
    {
     "data": {
      "text/plain": [
       "<langgraph.graph.state.StateGraph at 0x18e957d1d30>"
      ]
     },
     "execution_count": 11,
     "metadata": {},
     "output_type": "execute_result"
    }
   ],
   "execution_count": 11
  },
  {
   "cell_type": "code",
   "metadata": {
    "ExecuteTime": {
     "end_time": "2025-09-23T06:07:40.065124Z",
     "start_time": "2025-09-23T06:07:40.061659Z"
    }
   },
   "source": [
    "print_workflow_info(workflow)"
   ],
   "outputs": [
    {
     "name": "stdout",
     "output_type": "stream",
     "text": [
      "WORKFLOW INFORMATION\n",
      "====================\n",
      "Nodes: {'generate_resume_summary': StateNodeSpec(runnable=generate_resume_summary(tags=None, recurse=True, explode_args=False, func_accepts={}), metadata=None, input_schema=<class '__main__.ChainState'>, retry_policy=None, cache_policy=None, ends=(), defer=False), 'generate_cover_letter': StateNodeSpec(runnable=generate_cover_letter(tags=None, recurse=True, explode_args=False, func_accepts={}), metadata=None, input_schema=<class '__main__.ChainState'>, retry_policy=None, cache_policy=None, ends=(), defer=False)}\n",
      "Edges: {('generate_cover_letter', '__end__'), ('__start__', 'generate_resume_summary'), ('generate_resume_summary', 'generate_cover_letter')}\n",
      "Finish points attribute not directly accessible\n"
     ]
    }
   ],
   "execution_count": 12
  },
  {
   "cell_type": "markdown",
   "metadata": {},
   "source": [
    "Now we are compiling the workflow into an executable app, which prepares it for running with input data.\n"
   ]
  },
  {
   "cell_type": "code",
   "metadata": {
    "ExecuteTime": {
     "end_time": "2025-09-23T06:07:43.393723Z",
     "start_time": "2025-09-23T06:07:43.389572Z"
    }
   },
   "source": [
    "app = workflow.compile()"
   ],
   "outputs": [],
   "execution_count": 13
  },
  {
   "cell_type": "code",
   "metadata": {
    "ExecuteTime": {
     "end_time": "2025-09-23T06:08:54.992871Z",
     "start_time": "2025-09-23T06:08:53.992675Z"
    }
   },
   "source": [
    "from IPython.display import Image, display\n",
    "\n",
    "# Generate a visualization of the workflow graph\n",
    "png = app.get_graph().draw_png()\n",
    "display(Image(png))\n"
   ],
   "outputs": [
    {
     "data": {
      "image/png": "[encoded data removed]",
      "text/plain": [
       "<IPython.core.display.Image object>"
      ]
     },
     "metadata": {},
     "output_type": "display_data",
     "jetTransient": {
      "display_id": null
     }
    }
   ],
   "execution_count": 14
  },
  {
   "cell_type": "markdown",
   "metadata": {},
   "source": [
    "Now we are defining the input for the workflow by providing a job description, and then invoking the compiled app with this input to run the entire prompt chaining process.\n"
   ]
  },
  {
   "cell_type": "code",
   "metadata": {
    "ExecuteTime": {
     "end_time": "2025-09-23T06:09:31.320927Z",
     "start_time": "2025-09-23T06:09:10.514315Z"
    }
   },
   "source": [
    "input_state = {\n        \"job_description\": \"We are looking for a data scientist with experience in machine learning, NLP, and Python. Prior work with large datasets and experience deploying models into production is required.\"\n}\n\nresult = app.invoke(input_state)"
   ],
   "outputs": [],
   "execution_count": 15
  },
  {
   "metadata": {
    "ExecuteTime": {
     "end_time": "2025-09-23T06:09:31.345489Z",
     "start_time": "2025-09-23T06:09:31.339690Z"
    }
   },
   "cell_type": "code",
   "source": "result['cover_letter']",
   "outputs": [
    {
     "data": {
      "text/plain": [
       "\"[Your Name]  \\n[Your Address]  \\n[City, State, Zip]  \\n[Your Email]  \\n[Your Phone Number]  \\n[Date]  \\n\\n[Hiring Manager's Name]  \\n[Company Name]  \\n[Company Address]  \\n[City, State, Zip]  \\n\\nDear [Hiring Manager's Name],\\n\\nI am writing to express my enthusiasm for the Data Scientist position at [Company Name] as advertised. With my extensive experience in machine learning and natural language processing (NLP), along with proficient Python programming skills, I am excited about the opportunity to contribute to your team and drive impactful data-driven insights.\\n\\nIn my previous role as a Data Scientist, I successfully utilized advanced machine learning techniques to analyze and interpret large datasets, enabling my team to unlock valuable insights and inform key business decisions. My focus on deploying machine learning models into production has allowed me to hone my skills in not only developing robust algorithms but also ensuring their seamless integration into existing systems. This experience has equipped me with a keen understanding of the challenges and nuances involved in real-world deployments.\\n\\nAt [Previous Company Name], I led a project that involved building a predictive analytics model using NLP techniques to enhance customer engagement strategies. By leveraging data-driven insights, we were able to increase engagement rates by over 20% within a six-month period. I am adept at collaborating with cross-functional teams to identify problems, propose solutions, and implement data-driven strategies that align with organizational goals.\\n\\nI am particularly attracted to this position at [Company Name] because of your commitment to innovation and leveraging data for strategic advantage. I believe that my strong analytical skills, combined with my passion for transforming complex data into actionable insights, make me a perfect fit for your team. I am eager to bring my expertise in machine learning and NLP to help drive the exciting projects at [Company Name].\\n\\nThank you for considering my application. I look forward to the opportunity to discuss how my background and skills can contribute to the continued success of [Company Name]. I am available for an interview at your earliest convenience and can be reached by phone at [Your Phone Number] or via email at [Your Email].\\n\\nWarm regards,\\n\\n[Your Name]  \\n\\n[Your LinkedIn Profile] (optional)  \\n[Your Website/Portfolio] (optional)  \""
      ]
     },
     "execution_count": 16,
     "metadata": {},
     "output_type": "execute_result"
    }
   ],
   "execution_count": 16
  },
  {
   "cell_type": "code",
   "metadata": {
    "ExecuteTime": {
     "end_time": "2025-09-23T06:09:31.387757Z",
     "start_time": "2025-09-23T06:09:31.384139Z"
    }
   },
   "source": [
    "result['resume_summary']"
   ],
   "outputs": [
    {
     "data": {
      "text/plain": [
       "'**Resume Summary:**\\n\\nResults-driven Data Scientist with extensive experience in machine learning and natural language processing (NLP), proficient in Python programming. Demonstrated expertise in handling and analyzing large datasets, with a proven track record of successfully deploying machine learning models into production environments. Strong ability to leverage data-driven insights to solve complex problems and drive strategic decision-making.'"
      ]
     },
     "execution_count": 17,
     "metadata": {},
     "output_type": "execute_result"
    }
   ],
   "execution_count": 17
  },
  {
   "cell_type": "markdown",
   "metadata": {},
   "source": [
    "### Workflow Pattern: Routing\n",
    "\n",
    "Routing is a pattern where an LLM (or small router agent) **classifies or interprets incoming input** and then **routes it to the appropriate sub-process** or agent. This design is helpful when you're dealing with **multiple types of tasks or user intents**, and you want specialized logic or handling for each case.\n",
    "\n",
    "It works like a switchboard — one intelligent node (a classifier or router) analyzes the input and directs it to the correct branch.\n",
    "\n",
    "#### Use Cases:\n",
    "- AI customer service bots (route billing, tech support, or general inquiries)\n",
    "- Multi-skill agents (for example, summarization, translation, and data extraction)\n",
    "- Adaptive education bots (route to math, science, or grammar modules)\n",
    "\n",
    "---\n",
    "\n",
    "#### Routing Techniques:\n",
    "1. **Hard-coded keyword-based routing** (primitive)\n",
    "2. **LLM-based routing** using classification prompts\n",
    "3. **Embedding-based semantic matching** with a routing map\n",
    "\n",
    "---\n"
   ]
  },
  {
   "cell_type": "markdown",
   "metadata": {},
   "source": [
    "### Use Case: Routing — Task Classifier for Summarization and Translation\n",
    "\n",
    "In this workflow, we are going to build a simple **task router** using the Routing design pattern. The goal is to create a system that can intelligently decide whether the user wants to **summarize** or **translate** a given input, and then send it to the appropriate processing path.\n",
    "\n",
    "This pattern is useful when the system needs to handle **multiple types of tasks** based on the user’s intent. Instead of creating one large model to handle everything, we let a **router node** classify the request and direct it to a **specialized sub-process**.\n",
    "\n",
    "For example:\n",
    "- If the input is “Summarize this article about AI,” the router sends it to the **summarizer**.\n",
    "- If the input is “Translate this to French,” it sends it to the **translator**.\n"
   ]
  },
  {
   "cell_type": "markdown",
   "metadata": {},
   "source": [
    "Now we are defining the `RouterState` using `TypedDict` to represent the shared state in our routing workflow. This state includes:\n",
    "\n",
    "- `user_input`: the raw input provided by the user,\n",
    "- `task_type`: the type of task determined by the router (for example, \"summarize\" or \"translate\"),\n",
    "- `output`: the final result generated after routing to the appropriate task handler.\n"
   ]
  },
  {
   "cell_type": "code",
   "metadata": {
    "ExecuteTime": {
     "end_time": "2025-09-23T06:09:31.421146Z",
     "start_time": "2025-09-23T06:09:31.417881Z"
    }
   },
   "source": [
    "class RouterState(TypedDict):\n    user_input: str\n    task_type: str\n    output: str"
   ],
   "outputs": [],
   "execution_count": 18
  },
  {
   "metadata": {
    "ExecuteTime": {
     "end_time": "2025-09-23T06:09:31.447453Z",
     "start_time": "2025-09-23T06:09:31.444077Z"
    }
   },
   "cell_type": "code",
   "source": "print(...)",
   "outputs": [
    {
     "name": "stdout",
     "output_type": "stream",
     "text": [
      "Ellipsis\n"
     ]
    }
   ],
   "execution_count": 19
  },
  {
   "cell_type": "markdown",
   "metadata": {},
   "source": [
    "Now we are defining the `router_node`, which acts as the decision-maker in the workflow. It sends a prompt to the LLM asking it to classify the user's intent as either `\"summarize\"` or `\"translate\"`. The result is stored in the `task_type` field of the state and will determine which processing node the workflow routes to next.\n"
   ]
  },
  {
   "cell_type": "code",
   "metadata": {
    "ExecuteTime": {
     "end_time": "2025-09-23T06:09:31.477102Z",
     "start_time": "2025-09-23T06:09:31.471523Z"
    }
   },
   "source": [
    "class Router(BaseModel):\n    role: str = Field(..., description=\"Decide whether the user wants to summarize a passage  ouput 'summarize'  or translate text into French oupput translate.\")\nllm_router=llm.bind_tools([Router])"
   ],
   "outputs": [],
   "execution_count": 20
  },
  {
   "metadata": {
    "ExecuteTime": {
     "end_time": "2025-09-23T06:09:32.814484Z",
     "start_time": "2025-09-23T06:09:31.493512Z"
    }
   },
   "cell_type": "code",
   "source": [
    "response=llm_router.invoke(\"summarize this I love the sun its so warm\")\n",
    "response"
   ],
   "outputs": [
    {
     "data": {
      "text/plain": [
       "AIMessage(content='', additional_kwargs={'tool_calls': [{'id': 'call_94NEKFlDWYKRQp5X6MA6O0IG', 'function': {'arguments': '{\"role\":\"summarize\"}', 'name': 'Router'}, 'type': 'function'}], 'refusal': None}, response_metadata={'token_usage': {'completion_tokens': 15, 'prompt_tokens': 76, 'total_tokens': 91, 'completion_tokens_details': {'accepted_prediction_tokens': 0, 'audio_tokens': 0, 'reasoning_tokens': 0, 'rejected_prediction_tokens': 0}, 'prompt_tokens_details': {'audio_tokens': 0, 'cached_tokens': 0}}, 'model_name': 'gpt-4o-mini-2024-07-18', 'system_fingerprint': 'fp_560af6e559', 'id': 'chatcmpl-CIqVP4bclEoQ7krKlhZaN95ri9SEv', 'service_tier': 'default', 'finish_reason': 'tool_calls', 'logprobs': None}, id='run--52a6c8b3-6177-493b-bb5e-dfeaf5df7b15-0', tool_calls=[{'name': 'Router', 'args': {'role': 'summarize'}, 'id': 'call_94NEKFlDWYKRQp5X6MA6O0IG', 'type': 'tool_call'}], usage_metadata={'input_tokens': 76, 'output_tokens': 15, 'total_tokens': 91, 'input_token_details': {'audio': 0, 'cache_read': 0}, 'output_token_details': {'audio': 0, 'reasoning': 0}})"
      ]
     },
     "execution_count": 21,
     "metadata": {},
     "output_type": "execute_result"
    }
   ],
   "execution_count": 21
  },
  {
   "cell_type": "code",
   "metadata": {
    "ExecuteTime": {
     "end_time": "2025-09-23T06:09:32.844863Z",
     "start_time": "2025-09-23T06:09:32.840782Z"
    }
   },
   "source": [
    "def router_node(state: RouterState) -> RouterState:\n    routing_prompt = f\"\"\"\n    You are an AI task classifier.\n    \n    Decide whether the user wants to:\n    - \"summarize\" a passage\n    - or \"translate\" text into French\n    \n    Respond with just one word: 'summarize' or 'translate'.\n    \n    User Input: \"{state['user_input']}\"\n    \"\"\"\n\n    response = llm_router.invoke(routing_prompt)\n\n    return {**state, \"task_type\": response.tool_calls[0]['args']['role']} # This becomes the next node's name!"
   ],
   "outputs": [],
   "execution_count": 22
  },
  {
   "cell_type": "markdown",
   "metadata": {},
   "source": [
    "Now we are defining the `router` function, which simply returns the `task_type` from the state. This value will be used by LangGraph to decide which node to route to next based on the classification result.\n"
   ]
  },
  {
   "cell_type": "code",
   "metadata": {
    "ExecuteTime": {
     "end_time": "2025-09-23T06:09:32.862818Z",
     "start_time": "2025-09-23T06:09:32.855073Z"
    }
   },
   "source": [
    "def router(state: RouterState) -> str:\n    return state['task_type']"
   ],
   "outputs": [],
   "execution_count": 23
  },
  {
   "cell_type": "markdown",
   "metadata": {},
   "source": [
    "Now we are defining the `summarize_node`, which is responsible for summarizing the user's input. It prompts the LLM to generate a concise summary and stores the result in the `output` field, while also confirming the `task_type` as `\"summarize\"`.\n"
   ]
  },
  {
   "cell_type": "code",
   "metadata": {
    "ExecuteTime": {
     "end_time": "2025-09-23T06:09:32.874901Z",
     "start_time": "2025-09-23T06:09:32.871072Z"
    }
   },
   "source": [
    "def summarize_node(state: RouterState) -> RouterState:\n    prompt = f\"Please summarize the following passage:\\n\\n{state['user_input']}\"\n    response = llm.invoke(prompt)\n    \n    return {**state, \"task_type\": \"summarize\", \"output\": response.content}"
   ],
   "outputs": [],
   "execution_count": 24
  },
  {
   "cell_type": "markdown",
   "metadata": {},
   "source": [
    "Now we are defining the `translate_node`, which handles translation tasks. It prompts the LLM to translate the user's input into French and saves the translated text in the `output` field, while also updating the `task_type` to `\"translate\"`.\n"
   ]
  },
  {
   "cell_type": "code",
   "metadata": {
    "ExecuteTime": {
     "end_time": "2025-09-23T06:09:34.988376Z",
     "start_time": "2025-09-23T06:09:34.983035Z"
    }
   },
   "source": [
    "def translate_node(state: RouterState) -> RouterState:\n    prompt = f\"Translate the following text to French:\\n\\n{state['user_input']}\"\n    response = llm.invoke(prompt)\n\n    return {**state, \"task_type\": \"translate\", \"output\": response.content}"
   ],
   "outputs": [],
   "execution_count": 25
  },
  {
   "cell_type": "markdown",
   "metadata": {},
   "source": [
    "Now we are initializing a new `StateGraph` using the `RouterState` type. This sets up the structure of our routing workflow and defines the schema for the state that will be passed between nodes.\n"
   ]
  },
  {
   "cell_type": "code",
   "metadata": {
    "ExecuteTime": {
     "end_time": "2025-09-23T06:09:41.190507Z",
     "start_time": "2025-09-23T06:09:41.187089Z"
    }
   },
   "source": [
    "workflow = StateGraph(RouterState)\n"
   ],
   "outputs": [],
   "execution_count": 26
  },
  {
   "cell_type": "markdown",
   "metadata": {},
   "source": [
    "Now we are adding three nodes to the workflow:\n",
    "\n",
    "- `\"router\"`: the node that classifies the user input,  \n",
    "- `\"summarize\"`: the node that handles summarization,  \n",
    "- `\"translate\"`: the node that handles translation.  \n"
   ]
  },
  {
   "cell_type": "code",
   "metadata": {
    "ExecuteTime": {
     "end_time": "2025-09-23T06:09:42.827940Z",
     "start_time": "2025-09-23T06:09:42.821946Z"
    }
   },
   "source": [
    "workflow.add_node(\"router\", router_node)\nworkflow.add_node(\"summarize\", summarize_node)\nworkflow.add_node(\"translate\", translate_node)"
   ],
   "outputs": [
    {
     "data": {
      "text/plain": [
       "<langgraph.graph.state.StateGraph at 0x18e9582b9d0>"
      ]
     },
     "execution_count": 27,
     "metadata": {},
     "output_type": "execute_result"
    }
   ],
   "execution_count": 27
  },
  {
   "cell_type": "markdown",
   "metadata": {},
   "source": [
    "Now we are setting `\"router\"` as the entry point of the workflow, meaning the execution will start by classifying the user’s intent.\n"
   ]
  },
  {
   "cell_type": "code",
   "metadata": {
    "ExecuteTime": {
     "end_time": "2025-09-23T06:09:50.679788Z",
     "start_time": "2025-09-23T06:09:50.675023Z"
    }
   },
   "source": [
    "workflow.set_entry_point(\"router\")"
   ],
   "outputs": [
    {
     "data": {
      "text/plain": [
       "<langgraph.graph.state.StateGraph at 0x18e9582b9d0>"
      ]
     },
     "execution_count": 28,
     "metadata": {},
     "output_type": "execute_result"
    }
   ],
   "execution_count": 28
  },
  {
   "cell_type": "markdown",
   "metadata": {},
   "source": [
    "Now we are adding conditional edges from the `\"router\"` node based on the value returned by the `router` function. If the task is `\"summarize\"`, the workflow routes to the `summarize` node; if it's `\"translate\"`, it routes to the `translate` node.\n"
   ]
  },
  {
   "cell_type": "code",
   "metadata": {
    "ExecuteTime": {
     "end_time": "2025-09-23T06:09:52.309421Z",
     "start_time": "2025-09-23T06:09:52.304316Z"
    }
   },
   "source": [
    "workflow.add_conditional_edges(\"router\", router, {\n    \"summarize\": \"summarize\",\n    \"translate\": \"translate\"\n})"
   ],
   "outputs": [
    {
     "data": {
      "text/plain": [
       "<langgraph.graph.state.StateGraph at 0x18e9582b9d0>"
      ]
     },
     "execution_count": 29,
     "metadata": {},
     "output_type": "execute_result"
    }
   ],
   "execution_count": 29
  },
  {
   "cell_type": "markdown",
   "metadata": {},
   "source": [
    "Now we are marking both `\"summarize\"` and `\"translate\"` as valid finish points. This means the workflow can end after executing either node, depending on the task type selected by the router.\n"
   ]
  },
  {
   "cell_type": "code",
   "metadata": {
    "ExecuteTime": {
     "end_time": "2025-09-23T06:09:55.674619Z",
     "start_time": "2025-09-23T06:09:55.669834Z"
    }
   },
   "source": [
    "workflow.set_finish_point(\"summarize\")\nworkflow.set_finish_point(\"translate\")"
   ],
   "outputs": [
    {
     "data": {
      "text/plain": [
       "<langgraph.graph.state.StateGraph at 0x18e9582b9d0>"
      ]
     },
     "execution_count": 30,
     "metadata": {},
     "output_type": "execute_result"
    }
   ],
   "execution_count": 30
  },
  {
   "cell_type": "markdown",
   "metadata": {},
   "source": [
    "We compile the workflow into an executable app using the `compile()` method. This step prepares the defined nodes and routing logic so the workflow can be run with actual input data.\n"
   ]
  },
  {
   "cell_type": "code",
   "metadata": {
    "ExecuteTime": {
     "end_time": "2025-09-23T06:09:58.897711Z",
     "start_time": "2025-09-23T06:09:58.891930Z"
    }
   },
   "source": [
    "app = workflow.compile()\n"
   ],
   "outputs": [],
   "execution_count": 31
  },
  {
   "cell_type": "markdown",
   "metadata": {},
   "source": [
    "To better understand the structure of our workflow, we use `app.get_graph().draw_png()` to generate a visual representation of the graph. This diagram helps us verify how nodes are connected and where conditional routing decisions lead within the workflow.\n"
   ]
  },
  {
   "cell_type": "code",
   "metadata": {
    "ExecuteTime": {
     "end_time": "2025-09-23T06:10:02.121265Z",
     "start_time": "2025-09-23T06:10:01.739395Z"
    }
   },
   "source": [
    "from IPython.display import Image, display\n\n# Generate a visualization of the workflow graph\ndisplay(Image(app.get_graph().draw_png()))"
   ],
   "outputs": [
    {
     "data": {
      "image/png": "[encoded data removed]",
      "text/plain": [
       "<IPython.core.display.Image object>"
      ]
     },
     "metadata": {},
     "output_type": "display_data",
     "jetTransient": {
      "display_id": null
     }
    }
   ],
   "execution_count": 32
  },
  {
   "cell_type": "markdown",
   "metadata": {},
   "source": [
    "In this step, we provide a minimal input containing only the `user_input` field. Since the state is defined using `TypedDict`, missing fields such as `task_type` and `output` will be automatically handled during execution. We then invoke the app with this input, which starts the routing process and executes the appropriate task based on the user's intent.\n"
   ]
  },
  {
   "cell_type": "code",
   "metadata": {
    "ExecuteTime": {
     "end_time": "2025-09-23T06:10:11.199137Z",
     "start_time": "2025-09-23T06:10:08.254989Z"
    }
   },
   "source": [
    "input_text = {\n        \"user_input\": \"Can you translate this sentence: I love programming?\"\n    }\n\nresult = app.invoke(input_text)"
   ],
   "outputs": [],
   "execution_count": 33
  },
  {
   "cell_type": "code",
   "metadata": {
    "ExecuteTime": {
     "end_time": "2025-09-23T06:11:44.790347Z",
     "start_time": "2025-09-23T06:11:44.786046Z"
    }
   },
   "source": [
    "print(result[ 'output'])\nprint(result['task_type'])"
   ],
   "outputs": [
    {
     "name": "stdout",
     "output_type": "stream",
     "text": [
      "Sure! The translation of \"I love programming\" in French is \"J'aime la programmation.\"\n",
      "translate\n"
     ]
    }
   ],
   "execution_count": 34
  },
  {
   "cell_type": "markdown",
   "metadata": {},
   "source": [
    "Let's try the second task. \n"
   ]
  },
  {
   "cell_type": "code",
   "metadata": {
    "ExecuteTime": {
     "end_time": "2025-09-23T06:11:47.882138Z",
     "start_time": "2025-09-23T06:11:46.224048Z"
    }
   },
   "source": [
    "input_text = {\n        \"user_input\": \"Can you summarize this sentence: I love programming so much it is the best thing ever. All I want to do is programming?\"\n    }\n\nresult = app.invoke(input_text)"
   ],
   "outputs": [],
   "execution_count": 35
  },
  {
   "cell_type": "code",
   "metadata": {
    "ExecuteTime": {
     "end_time": "2025-09-23T06:11:49.771077Z",
     "start_time": "2025-09-23T06:11:49.767257Z"
    }
   },
   "source": [
    "print(result[ 'output'])\nprint(result['task_type'])"
   ],
   "outputs": [
    {
     "name": "stdout",
     "output_type": "stream",
     "text": [
      "The author expresses a deep passion for programming, considering it the best activity.\n",
      "summarize\n"
     ]
    }
   ],
   "execution_count": 36
  },
  {
   "cell_type": "markdown",
   "metadata": {},
   "source": [
    "### Workflow Pattern: Parallelization\n",
    "\n",
    "Parallelization is a pattern where **multiple LLM tasks are executed at the same time** instead of one after another. This is useful when different parts of the task can be done **independently**, allowing for faster processing and better system throughput.\n",
    "\n",
    "Think of it like a kitchen where one chef is chopping vegetables, another is boiling pasta, and another is baking — all at once. None of them need to wait for the other to finish.\n",
    "\n",
    "In AI workflows, this means breaking a problem into parts and running them **in parallel**, then collecting and combining the outputs.\n",
    "\n",
    "#### Use Cases:\n",
    "- Summarizing different sections of a large document simultaneously\n",
    "- Translating a batch of user messages at once\n",
    "- Generating multiple variations of an ad copy or product description\n",
    "- Running safety checks using different prompts and comparing outputs\n",
    "- Ensembling results from different models or prompts for consensus\n",
    "\n",
    "---\n",
    "\n",
    "#### Parallelization Techniques:\n",
    "1. **Format Diversity (Multi-Output Tasks)**  \n",
    "   - Run the **same input** through **different prompt styles, languages, or output formats**  \n",
    "   - Each LLM call produces a distinct kind of result in parallel  \n",
    "   - Combine all outputs into a unified response  \n",
    "   - *Example:* Translate a sentence into French, Spanish, and Japanese at the same time\n",
    "\n",
    "2. **Task Splitting (Sectioning)**  \n",
    "   - Divide a large input into smaller parts  \n",
    "   - Run each part through the same task (for example, summarization) in parallel  \n",
    "   - Merge the partial results for a final outcome  \n",
    "   - *Example:* Summarize each paragraph of an article simultaneously\n",
    "\n",
    "3. **Consensus Voting (Multi-Agent Evaluation)**  \n",
    "   - Run the **same task** multiple times with different agents or prompt styles  \n",
    "   - Compare the responses and choose the best one via ranking or majority vote  \n",
    "   - *Example:* Ask 3 variations of a model to write a safe response and pick the most appropriate one\n"
   ]
  },
  {
   "cell_type": "markdown",
   "metadata": {},
   "source": [
    "### ⚡ Use Case: Parallelization — Multilingual Translation Assistant\n",
    "\n",
    "In this workflow, we are building a **multilingual translation assistant** using the Parallelization design pattern. The goal is to take a single English sentence and generate its translations into **French**, **Spanish**, and **Japanese** — all at the same time.\n",
    "\n",
    "Parallelization is ideal for this task because the translations are **independent of one another**. Since each language-specific translation can be processed separately, we can run them in **parallel** to save time and improve efficiency.\n",
    "\n",
    "Once all translations are completed, we aggregate the outputs into a **single multilingual result**, making it easy to present or store all versions together.\n"
   ]
  },
  {
   "cell_type": "markdown",
   "metadata": {},
   "source": [
    "To manage the data flowing through our parallel translation workflow, we define a `State` using `TypedDict`. This structure allows us to keep track of both the input and the individual outputs from each parallel task.\n",
    "\n",
    "- `text`: stores the original English sentence to be translated\n",
    "- `french`: will hold the French translation\n",
    "- `spanish`: will hold the Spanish translation\n",
    "- `japanese`: will hold the Japanese translation\n",
    "- `combined_output`: will store the final combined result of all translations\n"
   ]
  },
  {
   "cell_type": "code",
   "metadata": {
    "ExecuteTime": {
     "end_time": "2025-09-23T06:12:07.795128Z",
     "start_time": "2025-09-23T06:12:07.790400Z"
    }
   },
   "source": [
    "class State(TypedDict):\n",
    "    text: str\n",
    "    french: str\n",
    "    spanish: str\n",
    "    japanese: str\n",
    "    combined_output: str"
   ],
   "outputs": [],
   "execution_count": 37
  },
  {
   "cell_type": "markdown",
   "metadata": {},
   "source": [
    "Here, we define the `translate_french` node, which is responsible for translating the input text into French. It sends a prompt to the LLM asking for the French version of the input, and then stores the result in the `french` field of the state.\n"
   ]
  },
  {
   "cell_type": "code",
   "metadata": {
    "ExecuteTime": {
     "end_time": "2025-09-23T06:12:10.107781Z",
     "start_time": "2025-09-23T06:12:10.101295Z"
    }
   },
   "source": [
    "def translate_french(state: State) -> dict:\n    response = llm.invoke(f\"Translate the following text to French:\\n\\n{state['text']}\")\n    return {\"french\": response.content.strip()}"
   ],
   "outputs": [],
   "execution_count": 38
  },
  {
   "cell_type": "markdown",
   "metadata": {},
   "source": [
    "In the same way, we define the `translate_spanish` node to handle translation into Spanish. It prompts the LLM with the input text and stores the translated result in the `spanish` field of the state.\n",
    "\n"
   ]
  },
  {
   "cell_type": "code",
   "metadata": {
    "ExecuteTime": {
     "end_time": "2025-09-23T06:12:14.547043Z",
     "start_time": "2025-09-23T06:12:14.542801Z"
    }
   },
   "source": [
    "def translate_spanish(state: State) -> dict:\n    response = llm.invoke(f\"Translate the following text to Spanish:\\n\\n{state['text']}\")\n    return {\"spanish\": response.content.strip()}"
   ],
   "outputs": [],
   "execution_count": 39
  },
  {
   "cell_type": "markdown",
   "metadata": {},
   "source": [
    "Similarly, we’ll create a `translate_japanese` node to translate the input text into Japanese and store the result in the `japanese` field.\n"
   ]
  },
  {
   "cell_type": "code",
   "metadata": {
    "ExecuteTime": {
     "end_time": "2025-09-23T06:12:18.351068Z",
     "start_time": "2025-09-23T06:12:18.347441Z"
    }
   },
   "source": [
    "def translate_japanese(state: State) -> dict:\n    response = llm.invoke(f\"Translate the following text to Japanese:\\n\\n{state['text']}\")\n    return {\"japanese\": response.content.strip()}"
   ],
   "outputs": [],
   "execution_count": 40
  },
  {
   "cell_type": "markdown",
   "metadata": {},
   "source": [
    "The `aggregator` node is responsible for combining the outputs from all three translation nodes into a single, readable format. It constructs a formatted string that includes the original text along with its French, Spanish, and Japanese translations, and stores the final result in the `combined_output` field.\n"
   ]
  },
  {
   "cell_type": "code",
   "metadata": {
    "ExecuteTime": {
     "end_time": "2025-09-23T06:12:20.882307Z",
     "start_time": "2025-09-23T06:12:20.878420Z"
    }
   },
   "source": [
    "def aggregator(state: State) -> dict:\n    combined = f\"Original Text: {state['text']}\\n\\n\"\n    combined += f\"French: {state['french']}\\n\\n\"\n    combined += f\"Spanish: {state['spanish']}\\n\\n\"\n    combined += f\"Japanese: {state['japanese']}\\n\"\n    return {\"combined_output\": combined}"
   ],
   "outputs": [],
   "execution_count": 41
  },
  {
   "cell_type": "markdown",
   "metadata": {},
   "source": [
    "We initialize a new `StateGraph` using the `State` type. This sets up the foundation for our parallel workflow and defines the structure of the data that will flow between nodes.\n"
   ]
  },
  {
   "cell_type": "code",
   "metadata": {
    "ExecuteTime": {
     "end_time": "2025-09-23T06:12:23.649961Z",
     "start_time": "2025-09-23T06:12:23.645978Z"
    }
   },
   "source": [
    "graph = StateGraph(State)"
   ],
   "outputs": [],
   "execution_count": 42
  },
  {
   "cell_type": "markdown",
   "metadata": {},
   "source": [
    "We add four nodes to the graph:\n",
    "\n",
    "- `\"translate_french\"`: handles translation to French,  \n",
    "- `\"translate_spanish\"`: handles translation to Spanish,  \n",
    "- `\"translate_japanese\"`: handles translation to Japanese,  \n",
    "- `\"aggregator\"`: collects and combines all translations into one output.\n",
    "\n",
    "Each of these nodes will operate independently before merging at the aggregator.\n"
   ]
  },
  {
   "cell_type": "code",
   "metadata": {
    "ExecuteTime": {
     "end_time": "2025-09-23T06:12:26.219900Z",
     "start_time": "2025-09-23T06:12:26.211512Z"
    }
   },
   "source": [
    "graph.add_node(\"translate_french\", translate_french)\ngraph.add_node(\"translate_spanish\", translate_spanish)\ngraph.add_node(\"translate_japanese\", translate_japanese)\ngraph.add_node(\"aggregator\", aggregator)"
   ],
   "outputs": [
    {
     "data": {
      "text/plain": [
       "<langgraph.graph.state.StateGraph at 0x18e95829e50>"
      ]
     },
     "execution_count": 43,
     "metadata": {},
     "output_type": "execute_result"
    }
   ],
   "execution_count": 43
  },
  {
   "cell_type": "markdown",
   "metadata": {},
   "source": [
    "We connect the three translation nodes to the `START` of the workflow. This means all translation tasks will begin simultaneously in parallel as soon as the workflow is triggered.\n"
   ]
  },
  {
   "cell_type": "code",
   "metadata": {
    "ExecuteTime": {
     "end_time": "2025-09-23T06:12:28.578628Z",
     "start_time": "2025-09-23T06:12:28.572764Z"
    }
   },
   "source": [
    "# Connect parallel nodes from START\ngraph.add_edge(START, \"translate_french\")\ngraph.add_edge(START, \"translate_spanish\")\ngraph.add_edge(START, \"translate_japanese\")"
   ],
   "outputs": [
    {
     "data": {
      "text/plain": [
       "<langgraph.graph.state.StateGraph at 0x18e95829e50>"
      ]
     },
     "execution_count": 44,
     "metadata": {},
     "output_type": "execute_result"
    }
   ],
   "execution_count": 44
  },
  {
   "cell_type": "markdown",
   "metadata": {},
   "source": [
    "Here, we connect each of the translation nodes to the `aggregator` node. Once all translations are complete, their outputs will be passed to the aggregator to be combined into the final result.\n"
   ]
  },
  {
   "cell_type": "code",
   "metadata": {
    "ExecuteTime": {
     "end_time": "2025-09-23T06:12:30.853780Z",
     "start_time": "2025-09-23T06:12:30.847562Z"
    }
   },
   "source": [
    "# Connect all translation nodes to the aggregator\ngraph.add_edge(\"translate_french\", \"aggregator\")\ngraph.add_edge(\"translate_spanish\", \"aggregator\")\ngraph.add_edge(\"translate_japanese\", \"aggregator\")"
   ],
   "outputs": [
    {
     "data": {
      "text/plain": [
       "<langgraph.graph.state.StateGraph at 0x18e95829e50>"
      ]
     },
     "execution_count": 45,
     "metadata": {},
     "output_type": "execute_result"
    }
   ],
   "execution_count": 45
  },
  {
   "cell_type": "markdown",
   "metadata": {},
   "source": [
    "We connect the `aggregator` node to the `END` of the workflow, marking it as the final step where the combined output is returned.\n"
   ]
  },
  {
   "cell_type": "code",
   "metadata": {
    "ExecuteTime": {
     "end_time": "2025-09-23T06:12:33.934046Z",
     "start_time": "2025-09-23T06:12:33.929065Z"
    }
   },
   "source": [
    "# Final node\ngraph.add_edge(\"aggregator\", END)"
   ],
   "outputs": [
    {
     "data": {
      "text/plain": [
       "<langgraph.graph.state.StateGraph at 0x18e95829e50>"
      ]
     },
     "execution_count": 46,
     "metadata": {},
     "output_type": "execute_result"
    }
   ],
   "execution_count": 46
  },
  {
   "cell_type": "code",
   "metadata": {
    "ExecuteTime": {
     "end_time": "2025-09-23T06:12:36.585780Z",
     "start_time": "2025-09-23T06:12:36.580568Z"
    }
   },
   "source": [
    "# Compile the graph\napp = graph.compile()"
   ],
   "outputs": [],
   "execution_count": 47
  },
  {
   "cell_type": "markdown",
   "metadata": {},
   "source": [
    "We provide an English sentence as input under the `text` field and invoke the workflow. This triggers all translation tasks in parallel, and once completed, the translations are combined and returned as the final result.\n"
   ]
  },
  {
   "cell_type": "code",
   "metadata": {
    "ExecuteTime": {
     "end_time": "2025-09-23T06:13:30.269319Z",
     "start_time": "2025-09-23T06:13:29.512037Z"
    }
   },
   "source": [
    "input_text = {\n        \"text\": \"Good morning! I hope you have a wonderful day.\"\n}\n\nresult = app.invoke(input_text)"
   ],
   "outputs": [],
   "execution_count": 49
  },
  {
   "cell_type": "code",
   "metadata": {
    "ExecuteTime": {
     "end_time": "2025-09-23T06:13:31.162305Z",
     "start_time": "2025-09-23T06:13:31.157617Z"
    }
   },
   "source": [
    "result"
   ],
   "outputs": [
    {
     "data": {
      "text/plain": [
       "{'text': 'Good morning! I hope you have a wonderful day.',\n",
       " 'french': \"Bonjour ! J'espère que vous passerez une merveilleuse journée.\",\n",
       " 'spanish': '¡Buenos días! Espero que tengas un día maravilloso.',\n",
       " 'japanese': 'おはようございます！素晴らしい一日になることを願っています。',\n",
       " 'combined_output': \"Original Text: Good morning! I hope you have a wonderful day.\\n\\nFrench: Bonjour ! J'espère que vous passerez une merveilleuse journée.\\n\\nSpanish: ¡Buenos días! Espero que tengas un día maravilloso.\\n\\nJapanese: おはようございます！素晴らしい一日になることを願っています。\\n\"}"
      ]
     },
     "execution_count": 50,
     "metadata": {},
     "output_type": "execute_result"
    }
   ],
   "execution_count": 50
  },
  {
   "cell_type": "markdown",
   "metadata": {},
   "source": [
    "### Exercises: Building a Multi-Agent Routing System\n",
    "\n",
    "\n",
    "#### Exercise 1 - Create State Management and Router Tool\n",
    "Define the state structure and classification tool for your multi-agent routing system. You need to create a TypedDict for state management and a Pydantic model for LLM tool binding.\n",
    "\n",
    "Your task: Create the foundational components for routing between ride hailing, restaurant orders, groceries, and default handling.\n"
   ]
  },
  {
   "cell_type": "markdown",
   "metadata": {},
   "source": [
    "<details>\n",
    "    <summary>Click here for the solution</summary>\n",
    "\n",
    "```python\n",
    "\n",
    "class RouterState(TypedDict):\n",
    "    user_input: str\n",
    "    task_type: str\n",
    "    output: str\n",
    "\n",
    "class Router(BaseModel):\n",
    "    role: str = Field(\n",
    "        ..., \n",
    "        description=\"Classify the user request. Return exactly one of: 'ride_hailing_call', 'restaurant_order', 'groceries' and if you do not know output 'default_handler'\"\n",
    "    )\n",
    "\n",
    "llm_router = llm.bind_tools([Router])\n",
    "\n",
    "```\n",
    "\n",
    "</details>\n"
   ]
  },
  {
   "cell_type": "code",
   "metadata": {
    "ExecuteTime": {
     "end_time": "2025-09-23T06:13:39.196729Z",
     "start_time": "2025-09-23T06:13:39.191354Z"
    }
   },
   "source": [
    "# TODO: Define your RouterState TypedDict with three fields\n# TODO: Create a Router BaseModel with proper field description\n# TODO: Bind the router tool to your LLM\nclass RouterState(TypedDict):\n    user_input: str\n    task_type: str\n    output: str\n\nclass Router(BaseModel):\n    role: str = Field(\n        ..., \n        description=\"Classify the user request. Return exactly one of: 'ride_hailing_call', 'restaurant_order', 'groceries' and if you do not know output 'default_handler'\"\n    )\n\nllm_router = llm.bind_tools([Router])"
   ],
   "outputs": [],
   "execution_count": 51
  },
  {
   "cell_type": "markdown",
   "metadata": {},
   "source": [
    "\n",
    "#### Exercise 2 - Implement Router Logic\n",
    "\n",
    "Create the router node function that classifies user input and handles cases where the LLM doesn't return a tool call. Also implement the router decision function.\n",
    "\n",
    "Your task: Build the classification logic with proper error handling for unclassified requests.\n"
   ]
  },
  {
   "cell_type": "markdown",
   "metadata": {},
   "source": [
    "<details>\n",
    "    <summary>Click here for the solution</summary>\n",
    "\n",
    "```python\n",
    "\n",
    "def router_node(state: RouterState) -> RouterState:\n",
    "    response = llm_router.invoke(state['user_input'])\n",
    "    \n",
    "    if response.tool_calls:\n",
    "        tool_call = response.tool_calls[0]['args']['role']\n",
    "        return {**state, \"task_type\": tool_call}\n",
    "    else:\n",
    "        return {**state, \"task_type\": \"default_handler\"}\n",
    "\n",
    "def router(state: RouterState) -> str:\n",
    "    return state['task_type']\n",
    "\n",
    "```\n",
    "\n",
    "</details>\n"
   ]
  },
  {
   "cell_type": "code",
   "metadata": {
    "ExecuteTime": {
     "end_time": "2025-09-23T06:13:44.207483Z",
     "start_time": "2025-09-23T06:13:44.201855Z"
    }
   },
   "source": [
    "# TODO: Implement router_node function with tool call handling\n# TODO: Add fallback to \"default_handler\" when no tool calls\n# TODO: Create router function that returns task_type from state\ndef router_node(state: RouterState) -> RouterState:\n    response = llm_router.invoke(state['user_input'])\n    \n    if response.tool_calls:\n        tool_call = response.tool_calls[0]['args']['role']\n        return {**state, \"task_type\": tool_call}\n    else:\n        return {**state, \"task_type\": \"default_handler\"}\n\ndef router(state: RouterState) -> str:\n    return state['task_type']"
   ],
   "outputs": [],
   "execution_count": 52
  },
  {
   "cell_type": "code",
   "metadata": {},
   "outputs": [],
   "source": [
    "def ride_hailing_node(state: RouterState) -> RouterState:\n",
    "    \"\"\"\n",
    "    Processes ride hailing requests by extracting pickup/dropoff locations and preferences\n",
    "    \"\"\"\n",
    "    prompt = f\"\"\"\n",
    "    You are a ride hailing assistant. Based on the user's request, extract and organize the following information:\n",
    "    \n",
    "    - Pickup location\n",
    "    - Destination/dropoff location  \n",
    "    - Preferred ride type (if mentioned)\n",
    "    - Any special requirements\n",
    "    - Estimated timing preferences\n",
    "    \n",
    "    User Request: \"{state['user_input']}\"\n",
    "    \n",
    "    Provide a clear summary of the ride request with all available details.\n",
    "    \"\"\"\n",
    "    \n",
    "    response = llm.invoke(prompt)\n",
    "    \n",
    "    return {\n",
    "        **state, \n",
    "        \"task_type\": \"ride_hailing_call\", \n",
    "        \"output\": response.content.strip()\n",
    "    }\n",
    "\n",
    "def restaurant_order_node(state: RouterState) -> RouterState:\n",
    "    \"\"\"\n",
    "    Processes restaurant orders by organizing menu items, quantities, and preferences\n",
    "    \"\"\"\n",
    "    prompt = f\"\"\"\n",
    "    You are a restaurant ordering assistant. Based on the user's request, organize the following information:\n",
    "    \n",
    "    - Menu items requested\n",
    "    - Quantities for each item\n",
    "    - Special modifications or dietary restrictions\n",
    "    - Delivery or pickup preference\n",
    "    - Any timing requirements\n",
    "    \n",
    "    User Request: \"{state['user_input']}\"\n",
    "    \n",
    "    Provide a clear, organized summary of the restaurant order with all details.\n",
    "    \"\"\"\n",
    "    \n",
    "    response = llm.invoke(prompt)\n",
    "    \n",
    "    return {\n",
    "        **state, \n",
    "        \"task_type\": \"restaurant_order\", \n",
    "        \"output\": response.content.strip()\n",
    "    }\n",
    "\n",
    "def groceries_node(state: RouterState) -> RouterState:\n",
    "    \"\"\"\n",
    "    Processes grocery delivery requests with driver pickup service\n",
    "    \"\"\"\n",
    "    prompt = f\"\"\"\n",
    "    You are a grocery delivery assistant for a service where our drivers pick up groceries for customers.\n",
    "    \n",
    "    Based on the user's request, organize the following information:\n",
    "    \n",
    "    Shopping List:\n",
    "    - List of grocery items needed\n",
    "    - Quantities or amounts for each item\n",
    "    - Brand preferences (if mentioned)\n",
    "    - Any dietary restrictions or organic preferences\n",
    "    \n",
    "    Store Information:\n",
    "    - Preferred store or location\n",
    "    - Budget considerations\n",
    "    - Special instructions for finding items\n",
    "    \n",
    "    Delivery Details:\n",
    "    - Delivery address (if provided)\n",
    "    - Preferred delivery time window\n",
    "    - Any special delivery instructions\n",
    "    - Contact information for driver coordination\n",
    "    \n",
    "    Driver Instructions:\n",
    "    - Substitution preferences (if item unavailable)\n",
    "    - How to handle out-of-stock items\n",
    "    - Any items requiring special handling (fragile, cold items)\n",
    "    - Payment method (if mentioned)\n",
    "    \n",
    "    User Request: \"{state['user_input']}\"\n",
    "    \n",
    "    Provide a comprehensive delivery order summary that our driver can use to efficiently shop and deliver groceries. \n",
    "    Include estimated pickup time and any special notes for the shopping trip.\n",
    "    \n",
    "    Format the response as a clear, organized delivery order that includes all necessary details for our driver service.\n",
    "    \"\"\"\n",
    "    \n",
    "    response = llm.invoke(prompt)\n",
    "    \n",
    "    return {\n",
    "        **state, \n",
    "        \"task_type\": \"groceries\", \n",
    "        \"output\": response.content.strip()\n",
    "    }\n",
    "def default_handler_node(state: RouterState) -> RouterState:\n",
    "    prompt = f\"\"\"\n",
    "    I couldn't classify your request into a specific category. \n",
    "    Let me provide general assistance for: \"{state['user_input']}\"\n",
    "    \n",
    "    I can help you with:\n",
    "    - Ride hailing services\n",
    "    -  Restaurant orders  \n",
    "    -  Grocery shopping\n",
    "    \n",
    "    Please rephrase your request to match one of these services, or if you need assistance with something else, I will connect you with our customer support team who can provide personalized help.\n",
    "    \n",
    "    Would you like me to:\n",
    "    1. Help you rephrase your request for one of our services\n",
    "    2. Connect you with customer support for additional assistance\n",
    "    \"\"\"\n",
    "    response = llm.invoke(prompt)\n",
    "    return {**state, \"task_type\": \"default_handler\", \"output\": response.content.strip()}\n"
   ],
   "execution_count": null
  },
  {
   "cell_type": "markdown",
   "metadata": {},
   "source": [
    "#### Exercise 3 - Assemble the Complete Workflow\n",
    "\n",
    "Put all the pieces together by building the StateGraph, adding nodes, setting up routing logic, and compiling the application.\n",
    "\n",
    "Your task: Create the complete workflow graph with proper routing and finish points, and call it ```app```.\n"
   ]
  },
  {
   "cell_type": "markdown",
   "metadata": {},
   "source": [
    "<details>\n",
    "    <summary>Click here for the solution</summary>\n",
    "\n",
    "```python\n",
    "workflow = StateGraph(RouterState)\n",
    "\n",
    "# Add all nodes\n",
    "workflow.add_node(\"router\", router_node)\n",
    "workflow.add_node(\"ride_hailing_call\", ride_hailing_node)\n",
    "workflow.add_node(\"restaurant_order\", restaurant_order_node)\n",
    "workflow.add_node(\"groceries\", groceries_node)\n",
    "workflow.add_node(\"default_handler\", default_handler_node)\n",
    "\n",
    "# Set entry point\n",
    "workflow.set_entry_point(\"router\")\n",
    "\n",
    "# Add conditional routing\n",
    "workflow.add_conditional_edges(\"router\", router, {\n",
    "    \"groceries\": \"groceries\", \n",
    "    \"restaurant_order\": \"restaurant_order\",\n",
    "    \"ride_hailing_call\": \"ride_hailing_call\",\n",
    "    \"default_handler\": \"default_handler\"\n",
    "})\n",
    "\n",
    "# Set finish points\n",
    "workflow.set_finish_point(\"ride_hailing_call\")\n",
    "workflow.set_finish_point(\"restaurant_order\")\n",
    "workflow.set_finish_point(\"groceries\")\n",
    "workflow.set_finish_point(\"default_handler\")\n",
    "\n",
    "# Compile the application\n",
    "app = workflow.compile()\n",
    "\n",
    "```\n",
    "\n",
    "</details>\n"
   ]
  },
  {
   "cell_type": "code",
   "metadata": {},
   "outputs": [],
   "source": [
    "# TODO: Create StateGraph with RouterState\n# TODO: Add all five nodes (router + 4 processing nodes)\n# TODO: Set router as entry point\n# TODO: Add conditional edges with all four routing options\n# TODO: Set finish points for all processing nodes\n# TODO: Compile the application\nworkflow = StateGraph(RouterState)\n# Add all nodes\nworkflow.add_node(\"router\", router_node)\nworkflow.add_node(\"ride_hailing_call\", ride_hailing_node)\nworkflow.add_node(\"restaurant_order\", restaurant_order_node)\nworkflow.add_node(\"groceries\", groceries_node)\nworkflow.add_node(\"default_handler\", default_handler_node)\n\n# Set entry point\nworkflow.set_entry_point(\"router\")\n\n# Add conditional routing\nworkflow.add_conditional_edges(\"router\", router, {\n    \"groceries\": \"groceries\", \n    \"restaurant_order\": \"restaurant_order\",\n    \"ride_hailing_call\": \"ride_hailing_call\",\n    \"default_handler\": \"default_handler\"\n})\n\n# Set finish points\nworkflow.set_finish_point(\"ride_hailing_call\")\nworkflow.set_finish_point(\"restaurant_order\")\nworkflow.set_finish_point(\"groceries\")\nworkflow.set_finish_point(\"default_handler\")\n\n# Compile the application\napp = workflow.compile()"
   ],
   "execution_count": null
  },
  {
   "cell_type": "markdown",
   "metadata": {},
   "source": [
    "Test your implementation here:\n"
   ]
  },
  {
   "cell_type": "code",
   "metadata": {},
   "outputs": [],
   "source": [
    "test_cases = [\n    {\"user_input\": \"I need a ride from downtown to the airport at 3pm\"},\n    {\"user_input\": \"I want to order 2 large pepperoni pizzas for delivery\"},\n    {\"user_input\": \"I need milk, bread, eggs, and vegetables for the week\"},\n    {\"user_input\": \"What's the weather like today?\"},  # Default/unclassified example\n]\n\nfor i, test_input in enumerate(test_cases, 1):\n    result=app.invoke(test_input)\n\n\n    print(f\"question {test_input[\"user_input\"]}\\n\")\n    print(f\"task_type {result['task_type']}\\n\")\n    print(f\"output: {result['output']}\\n\")\n    print('-----------------------------------')"
   ],
   "execution_count": null
  },
  {
   "cell_type": "markdown",
   "metadata": {},
   "source": [
    "Here is the complete code:\n"
   ]
  },
  {
   "cell_type": "code",
   "metadata": {},
   "outputs": [],
   "source": [
    "class RouterState(TypedDict):\n    user_input: str\n    task_type: str\n    output: str\n\n\nclass Router(BaseModel):\n    role: str = Field(\n        ..., \n        description=\"Classify the user request. Return exactly one of: 'ride_hailing_call', 'restaurant_order',  'groceries' and if you do not know output  'default_handler'\"\n    )\n\nllm_router = llm.bind_tools([Router])\n\ndef router_node(state: RouterState) -> RouterState:\n    response = llm_router.invoke(state['user_input'])\n    \n    if response.tool_calls:\n        tool_call = response.tool_calls[0]['args']['role']\n        return {**state, \"task_type\": tool_call}\n    else:\n        return {**state, \"task_type\": \"default_handler\"}\n\n\ndef router(state: RouterState) -> str:\n    return state['task_type']\n    \ndef ride_hailing_node(state: RouterState) -> RouterState:\n    \"\"\"\n    Processes ride hailing requests by extracting pickup/dropoff locations and preferences\n    \"\"\"\n    prompt = f\"\"\"\n    You are a ride hailing assistant. Based on the user's request, extract and organize the following information:\n    \n    - Pickup location\n    - Destination/dropoff location  \n    - Preferred ride type (if mentioned)\n    - Any special requirements\n    - Estimated timing preferences\n    \n    User Request: \"{state['user_input']}\"\n    \n    Provide a clear summary of the ride request with all available details.\n    \"\"\"\n    \n    response = llm.invoke(prompt)\n    \n    return {\n        **state, \n        \"task_type\": \"ride_hailing_call\", \n        \"output\": response.content.strip()\n    }\n\ndef restaurant_order_node(state: RouterState) -> RouterState:\n    \"\"\"\n    Processes restaurant orders by organizing menu items, quantities, and preferences\n    \"\"\"\n    prompt = f\"\"\"\n    You are a restaurant ordering assistant. Based on the user's request, organize the following information:\n    \n    - Menu items requested\n    - Quantities for each item\n    - Special modifications or dietary restrictions\n    - Delivery or pickup preference\n    - Any timing requirements\n    \n    User Request: \"{state['user_input']}\"\n    \n    Provide a clear, organized summary of the restaurant order with all details.\n    \"\"\"\n    \n    response = llm.invoke(prompt)\n    \n    return {\n        **state, \n        \"task_type\": \"restaurant_order\", \n        \"output\": response.content.strip()\n    }\n\ndef groceries_node(state: RouterState) -> RouterState:\n    \"\"\"\n    Processes grocery delivery requests with driver pickup service\n    \"\"\"\n    prompt = f\"\"\"\n    You are a grocery delivery assistant for a service where our drivers pick up groceries for customers.\n    \n    Based on the user's request, organize the following information:\n    \n    Shopping List:\n    - List of grocery items needed\n    - Quantities or amounts for each item\n    - Brand preferences (if mentioned)\n    - Any dietary restrictions or organic preferences\n    \n    Store Information:\n    - Preferred store or location\n    - Budget considerations\n    - Special instructions for finding items\n    \n    Delivery Details:\n    - Delivery address (if provided)\n    - Preferred delivery time window\n    - Any special delivery instructions\n    - Contact information for driver coordination\n    \n    Driver Instructions:\n    - Substitution preferences (if item unavailable)\n    - How to handle out-of-stock items\n    - Any items requiring special handling (fragile, cold items)\n    - Payment method (if mentioned)\n    \n    User Request: \"{state['user_input']}\"\n    \n    Provide a comprehensive delivery order summary that our driver can use to efficiently shop and deliver groceries. \n    Include estimated pickup time and any special notes for the shopping trip.\n    \n    Format the response as a clear, organized delivery order that includes all necessary details for our driver service.\n    \"\"\"\n    \n    response = llm.invoke(prompt)\n    \n    return {\n        **state, \n        \"task_type\": \"groceries\", \n        \"output\": response.content.strip()\n    }\ndef default_handler_node(state: RouterState) -> RouterState:\n    prompt = f\"\"\"\n    I couldn't classify your request into a specific category. \n    Let me provide general assistance for: \"{state['user_input']}\"\n    \n    I can help you with:\n    - Ride hailing services\n    -  Restaurant orders  \n    -  Grocery shopping\n    \n    Please rephrase your request to match one of these services, or if you need assistance with something else, I will connect you with our customer support team who can provide personalized help.\n    \n    Would you like me to:\n    1. Help you rephrase your request for one of our services\n    2. Connect you with customer support for additional assistance\n    \"\"\"\n    response = llm.invoke(prompt)\n    return {**state, \"task_type\": \"default_handler\", \"output\": response.content.strip()}\n\nworkflow = StateGraph(RouterState)\nworkflow.add_node(\"ride_hailing_call\", ride_hailing_node)\nworkflow.add_node(\"restaurant_order\", restaurant_order_node)\nworkflow.add_node(\"groceries\", groceries_node)\nworkflow.add_node(\"default_handler\", default_handler_node)\nworkflow.add_node(\"router\", router_node)\nworkflow.set_entry_point(\"router\")\n# Update your conditional edges to route to all three options\nworkflow.add_conditional_edges(\"router\", router, {\"groceries\":\"groceries\", \"restaurant_order\":\"restaurant_order\",\"ride_hailing_call\":\"ride_hailing_call\",\"default_handler\":\"default_handler\"})\n\n\n# Set all three as possible finish points\n\nworkflow.set_finish_point(\"ride_hailing_call\")\nworkflow.set_finish_point(\"restaurant_order\")\nworkflow.set_finish_point(\"groceries\")\n\napp = workflow.compile()\n\ntest_cases = [\n    {\"user_input\": \"I need a ride from downtown to the airport at 3pm\"},\n    {\"user_input\": \"I want to order 2 large pepperoni pizzas for delivery\"},\n    {\"user_input\": \"I need milk, bread, eggs, and vegetables for the week\"},\n    {\"user_input\": \"What's the weather like today?\"},  # Default/unclassified example\n]\n\nfor i, test_input in enumerate(test_cases, 1):\n    result=app.invoke(test_input)\n\n\n    print(f\"question {test_input[\"user_input\"]}\\n\")\n    print(f\"task_type {result['task_type']}\\n\")\n    print(f\"output: {result['output']}\\n\")\n    print('-----------------------------------')"
   ],
   "execution_count": null
  },
  {
   "cell_type": "markdown",
   "metadata": {},
   "source": [
    "## Authors\n",
    "\n",
    "<a href=\"https://author.skills.network/instructors/kunal_makwana\" target=\"_blank\">Kunal Makwana</a> is a passionate Data Scientist and AI enthusiast, currently working at IBM on innovative projects in Generative AI and machine learning. His journey began with a deep interest in mathematics and coding, which inspired him to explore how data can solve real-world problems. Over the years, he's gained hands-on experience in building scalable AI solutions, fine-tuning models, and leveraging cloud technologies to extract meaningful insights from complex datasets.\n",
    "\n",
    "<a href=\"https://www.linkedin.com/in/joseph-s-50398b136/\" target=\"_blank\">Joseph Santarcangelo</a> has a  Ph.D. in Electrical Engineering with his research focused on using machine learning, signal processing, and computer vision to determine how videos impact human cognition. Joseph has been working for IBM since he completed his PhD.\n",
    "\n",
    "\n"
   ]
  },
  {
   "cell_type": "markdown",
   "metadata": {},
   "source": [
    "## Change Log\n",
    "\n",
    "<details>\n",
    "    <summary>Click here for the changelog</summary>\n",
    "\n",
    "|Date (YYYY-MM-DD)|Version|Changed By|Change Description|\n",
    "|-|-|-|-|\n",
    "|2025-07-17|0.1|Kunal Makwana|Initial version created|\n",
    "|2025-07-22|0.2|Steve Ryan|ID review|\n",
    "|2025-07-22|0.3|Leah Hanson|QA review|\n",
    "\n",
    "</details>\n",
    "\n",
    "---\n",
    "\n",
    "\n",
    "Copyright © IBM Corporation. All rights reserved.\n"
   ]
  },
  {
   "cell_type": "code",
   "metadata": {},
   "outputs": [],
   "source": [
    ""
   ],
   "execution_count": null
  }
 ],
 "metadata": {
  "kernelspec": {
   "display_name": "Python 3 (ipykernel)",
   "language": "python",
   "name": "python3"
  },
  "language_info": {
   "codemirror_mode": {
    "name": "ipython",
    "version": 3
   },
   "file_extension": ".py",
   "mimetype": "text/x-python",
   "name": "python",
   "nbconvert_exporter": "python",
   "pygments_lexer": "ipython3",
   "version": "3.12.8"
  },
  "prev_pub_hash": "af2f53da5f34d69c384ef6f644fe5a7bc7c06928f1e87aaad2cfd992a92045cf"
 },
 "nbformat": 4,
 "nbformat_minor": 4
}
