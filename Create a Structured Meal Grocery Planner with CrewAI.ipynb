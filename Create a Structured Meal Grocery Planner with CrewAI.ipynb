{
 "cells": [
  {
   "cell_type": "markdown",
   "metadata": {},
   "source": [
    "<p style=\"text-align:center\">\n",
    "    <a href=\"https://skills.network\" target=\"_blank\">\n",
    "    <img src=\"https://cf-courses-data.s3.us.cloud-object-storage.appdomain.cloud/assets/logos/SN_web_lightmode.png\" width=\"200\" alt=\"Skills Network Logo\"  />\n",
    "    </a>\n",
    "</p>\n"
   ]
  },
  {
   "cell_type": "markdown",
   "metadata": {},
   "source": [
    "# Create a Structured Meal & Grocery Planner with CrewAI\n"
   ]
  },
  {
   "cell_type": "markdown",
   "metadata": {},
   "source": [
    "Estimated time needed: **45** minutes\n"
   ]
  },
  {
   "cell_type": "markdown",
   "metadata": {},
   "source": [
    "You are an individual who loves cooking delicious meals but struggles with the overwhelming decisions around meal planning, budgeting, and grocery shopping. In the past, this involved hours of manual work – browsing endless recipes, calculating ingredient quantities, checking prices, organizing shopping lists, and hoping everything fits your budget and dietary needs. By leveraging AI agents through CrewAI, you can dramatically accelerate this process while ensuring you get exactly what you need for a perfect meal.\n",
    "\n",
    "In this project, you'll implement an end-to-end meal planning and grocery shopping system using AI agents. You'll create:\n",
    "\n",
    "- **Structured data models** using Pydantic to ensure consistent grocery lists and meal plans.\n",
    "- **Specialized AI agents** for recipe research, shopping organization, and budget optimization.\n",
    "- **A coordinated workflow** that transforms a simple meal craving into a complete, budget-conscious shopping strategy.\n",
    "- **A reusable YAML configuration** that allows you to define agents, tasks, and crew behavior declaratively, making the system easier to maintain and scale.\n",
    "- **A class-based CrewBase setup** that combines structured Python code with external YAML files, enabling hooks for pre-processing inputs and post-processing outputs, and automating the agent-task pipeline.\n",
    "\n",
    "By the end of this project, you'll have a reusable framework that can generate comprehensive, organized shopping plans for any meal within minutes rather than hours — all with just a few lines of configuration and code.\n"
   ]
  },
  {
   "cell_type": "markdown",
   "metadata": {},
   "source": [
    "## __Table of Contents__\n",
    "<ol>\n",
    "    <li><a href=\"#Objectives\">Objectives</a></li>\n",
    "    <li>\n",
    "        <a href=\"#Setup\">Setup</a>\n",
    "        <ol>\n",
    "            <li><a href=\"#Installing-Required-Libraries\">Installing Required Libraries</a></li>\n",
    "            <li><a href=\"#Importing-Required-Libraries\">Importing Required Libraries</a></li>\n",
    "        </ol>\n",
    "    </li>\n",
    "    <li>\n",
    "        <a href=\"#Creating-the-Grocery-Shopping-Assistant-Structure\">Creating the Grocery Shopping Assistant Structure</a>\n",
    "        <ol>\n",
    "            <li><a href=\"#GroceryItem\">GroceryItem</a></li>\n",
    "            <li><a href=\"#MealPlan\">MealPlan</a></li>\n",
    "            <li><a href=\"#ShoppingCategory\">ShoppingCategory</a></li>\n",
    "            <li><a href=\"#GroceryShoppingPlan\">GroceryShoppingPlan</a></li>\n",
    "        </ol>\n",
    "    </li>\n",
    "    <li>\n",
    "        <a href=\"#Setting-Up-Our-LLM-and-Essential-Tools\">Setting Up Our LLM and Essential Tools</a>\n",
    "        <ol>\n",
    "            <li><a href=\"#Setting-Up-SerperDevTool\">Setting Up SerperDevTool</a></li>\n",
    "        </ol>\n",
    "    </li>\n",
    "    <li>\n",
    "        <a href=\"#Creating-Our-AI-Agent-Workflow-with-CrewAI\">Creating Our AI Agent Workflow with CrewAI</a>\n",
    "        <ol>\n",
    "            <li><a href=\"#Defining-Our-Meal-Planning-Agent\">Defining Our Meal Planning Agent</a></li>\n",
    "            <li><a href=\"#Defining-Our-Meal-Planning-Task\">Defining Our Meal Planning Task</a></li>\n",
    "            <li><a href=\"#Creating-and-Running-Our-Meal-Planning-Crew\">Creating and Running Our Meal Planning Crew</a></li>\n",
    "            <li><a href=\"#Creating-Our-Shopping-Organization-Agent\">Creating Our Shopping Organization Agent</a></li>\n",
    "            <li><a href=\"#Defining-the-Shopping-Organization-Task\">Defining the Shopping Organization Task</a></li>\n",
    "            <li><a href=\"#Building-Our-Two-Agent-Grocery-Crew\">Building Our Two-Agent Grocery Crew</a></li>\n",
    "            <li><a href=\"#Adding-Financial-Intelligence-with-Budget-Advisor-Agent\">Adding Financial Intelligence with Budget Advisor Agent</a></li>\n",
    "            <li><a href=\"#Defining-the-Budget-Analysis-Task\">Defining the Budget Analysis Task</a></li>\n",
    "            <li><a href=\"#Using-YAML-with-CrewAI---Food-Leftover-Agent-and-Task\">Using YAML with CrewAI - Food Leftover Agent and Task</a></li>\n",
    "            <li><a href=\"#Using-CrewBase-and-Decorators-with-CrewAI\">Using CrewBase and Decorators with CrewAI</a></li>\n",
    "            <li><a href=\"#Defining-Our-Summary-Agent-and-Task\">Defining Our Summary Agent and Task</a></li>\n",
    "            <li><a href=\"#Assembling-Our-Complete-Grocery-Planning-Team\">Assembling Our Complete Grocery Planning Team</a></li>\n",
    "            <li><a href=\"#Executing-Our-Complete-Grocery-Planning-Workflow\">Executing Our Complete Grocery Planning Workflow</a></li>\n",
    "            <li><a href=\"#Understanding-Your-Complete-Grocery-Shopping-Guide\">Understanding Your Complete Grocery Shopping Guide</a></li>\n",
    "        </ol>\n",
    "     </li>\n",
    "    <li><a href=\"#Exercises\">Exercises</a></li>\n",
    "    <li><a href=\"#Authors\">Authors</a></li>\n",
    "</ol>\n"
   ]
  },
  {
   "cell_type": "markdown",
   "metadata": {},
   "source": [
    "## Objectives\n",
    "\n",
    "After completing this lab, you will be able to:\n",
    "\n",
    "- **Structure grocery planning data** using `Pydantic` models and structured outputs to ensure consistent formats across all agent responses.\n",
    "- **Define intelligent food planning agents** using both Python-based `@CrewBase` classes and YAML configuration files for modularity and reuse.\n",
    "- **Create crew objects** that assign agents to tasks, enabling coordinated multi-agent workflows for meal planning and grocery management.\n",
    "- **Implement a multi-stage planning workflow** with CrewAI that processes user inputs through research, shopping list generation, budgeting, and leftover management.\n",
    "- **Organize ingredient data by store sections** to produce structured shopping lists with estimated prices and category-wise grouping.\n",
    "- **Compile a complete grocery shopping guide** that combines outputs from all agents into a cohesive report with recipes, cost breakdowns, and money-saving tips.\n"
   ]
  },
  {
   "cell_type": "markdown",
   "metadata": {},
   "source": [
    "----\n"
   ]
  },
  {
   "cell_type": "markdown",
   "metadata": {},
   "source": [
    "## Setup\n"
   ]
  },
  {
   "cell_type": "markdown",
   "metadata": {},
   "source": [
    "For this lab, we will be using the following libraries:\n",
    "\n",
    "*   [`pydantic`](https://docs.pydantic.dev/latest/) for data validation and creating structured grocery item, meal plan, and shopping list models\n",
    "*   [`langchain`](https://python.langchain.com/docs/get_started/introduction) for language model orchestration and integration with recipe research agents\n",
    "*   [`crewai`](https://www.crewai.io/) for creating coordinated AI agent workflows that handle meal planning, shopping organization, and budget analysis\n",
    "*   [`crewai-tools`](https://github.com/joaomdmoura/crewAI-tools) for specialized tools such as SerperDevTool to enable web-based recipe research and price checking\n",
    "*   [`IPython.display`](https://ipython.readthedocs.io/en/stable/api/generated/IPython.display.html) for rich formatting and display of structured grocery data and shopping plans\n",
    "*   [`os`](https://docs.python.org/3/library/os.html) for managing API keys and environment variables needed for web search functionality\n",
    "*   [`warnings`](https://docs.python.org/3/library/warnings.html) for suppressing deprecation and user warnings to maintain clean output during meal planning operations\n"
   ]
  },
  {
   "cell_type": "markdown",
   "metadata": {},
   "source": [
    "### Installing Required Libraries\n",
    "\n",
    "The following required libraries are __not__ pre-installed in the Skills Network Labs environment. __You will need to run the following cell__ to install them:\n"
   ]
  },
  {
   "cell_type": "code",
   "execution_count": null,
   "metadata": {},
   "outputs": [],
   "source": [
    "%pip install langchain==0.3.20 | tail -n 1\n",
    "%pip install crewai==0.141.0 | tail -n 1\n",
    "%pip install langchain-community==0.3.19 | tail -n 1\n",
    "%pip install langchain-openai==0.3.25 | tail -n 1\n",
    "%pip install duckduckgo-search==7.5.2 | tail -n 1\n",
    "%pip install crewai-tools==0.51.1 | tail -n 1\n",
    "%pip install databricks-sdk==0.46.0 | tail -n 1"
   ]
  },
  {
   "cell_type": "markdown",
   "metadata": {},
   "source": [
    "We are going to download a python file which contains the `CrewBase` class. The reason why we are downloading it here, will be discussed later.\n"
   ]
  },
  {
   "cell_type": "code",
   "metadata": {
    "ExecuteTime": {
     "end_time": "2025-09-25T03:34:38.394801Z",
     "start_time": "2025-09-25T03:34:38.027565Z"
    }
   },
   "source": "!curl \"https://cf-courses-data.s3.us.cloud-object-storage.appdomain.cloud/3xGOgzMOv5jhRsA3A8N9fQ/leftover.py\" -o leftover.py",
   "outputs": [
    {
     "name": "stderr",
     "output_type": "stream",
     "text": [
      "  % Total    % Received % Xferd  Average Speed   Time    Time     Time  Current\n",
      "                                 Dload  Upload   Total   Spent    Left  Speed\n",
      "\n",
      "  0     0    0     0    0     0      0      0 --:--:-- --:--:-- --:--:--     0\n",
      "100   588  100   588    0     0   1843      0 --:--:-- --:--:-- --:--:--  1849\n"
     ]
    }
   ],
   "execution_count": 2
  },
  {
   "cell_type": "markdown",
   "metadata": {},
   "source": [
    "### Importing Required Libraries\n",
    "Since we are creating our own module, Jupyter notebooks might not automatically recognize it — especially in custom or multi-file setups. To ensure our module is importable, we’ll add the current directory to Python’s module search path using sys.path.append('.').\n"
   ]
  },
  {
   "cell_type": "code",
   "execution_count": null,
   "metadata": {},
   "outputs": [],
   "source": [
    "import sys\n",
    "sys.path.append(\".\")"
   ]
  },
  {
   "cell_type": "markdown",
   "metadata": {},
   "source": [
    "We'll use ```LeftoversCrew``` later in the lab, but let's double-check it's availability now. If you get an import error, first check that ```leftover.py``` is in your current directory. If it is, try restarting the Jupyter kernel. If the problem persists, double-check that you've written the correct import statement.\n"
   ]
  },
  {
   "cell_type": "code",
   "execution_count": null,
   "metadata": {},
   "outputs": [],
   "source": [
    "from leftover import LeftoversCrew"
   ]
  },
  {
   "cell_type": "markdown",
   "metadata": {},
   "source": [
    "Files in  current directory:\n"
   ]
  },
  {
   "cell_type": "code",
   "execution_count": null,
   "metadata": {},
   "outputs": [],
   "source": [
    "import os\n",
    "\n",
    "files = os.listdir('.')\n",
    "print(files)"
   ]
  },
  {
   "cell_type": "code",
   "execution_count": null,
   "metadata": {},
   "outputs": [],
   "source": [
    "from pydantic import BaseModel, Field\n",
    "from typing import List, Dict, Optional\n",
    "from IPython.display import display, JSON, Markdown\n",
    "from datetime import datetime\n",
    "import os"
   ]
  },
  {
   "cell_type": "markdown",
   "metadata": {},
   "source": [
    "## Creating the Grocery Shopping Assistant Structure\n",
    "\n",
    "To create our grocery shopping assistant, we are going to begin by creating the blueprints (a.k.a. classes) to manage the structure. Why? Because when you're dealing with grocery lists, meal plans, and shopping data, you need everything organized in a predictable format. Without structure, you might get a shopping list that says \"some chicken\" instead of \"2 lbs chicken breast\" - not very helpful when you're at the store!\n",
    "\n",
    "To do that, we are going to use **Pydantic**, which acts like a strict organizer for our data. Think of it as creating templates that ensure every grocery item has exactly what we need: a name, quantity, price, and store section.\n",
    "\n",
    "#### Why Are We Creating These Classes?\n",
    "\n",
    "We are creating these classes to **organize and structure grocery shopping data** in a clear and practical way. Instead of handling messy, unstructured text such as \"get some chicken and vegetables,\" we break down shopping into smaller, structured parts that our AI agents can work with reliably.\n",
    "\n",
    "Pydantic's `BaseModel` helps structure and validate our grocery data easily. For example, if we define a `GroceryItem` model with `name: str` and `estimated_price: str`, it ensures that every grocery item must have both a name and a price estimate. `Field` adds extra rules and descriptions, like explaining that `quantity` should be formatted as \"2 lbs\" or \"1 gallon\". `List` from `typing` allows complex data structures, like a `ShoppingCategory` model storing `items: List[GroceryItem]` - a produce section containing multiple vegetables.\n",
    "\n",
    "This makes handling grocery data simple and reliable, ensuring that when our AI agent says \"buy chicken,\" it specifically means \"buy 2 lbs of chicken breast for $8-12 from the meat section.\" ([Pydantic Docs](https://docs.pydantic.dev/latest/concepts/models/))\n"
   ]
  },
  {
   "cell_type": "markdown",
   "metadata": {},
   "source": [
    "### Our Grocery Shopping Data Structure\n",
    "\n",
    "1. ```GroceryItem```         → Individual grocery item with details\n",
    "2. ```MealPlan```           → Recipe information with researched ingredients  \n",
    "3. ```ShoppingCategory```   → Store section with organized items\n",
    "4. ```GroceryShoppingPlan``` → Complete shopping strategy with budget analysis\n"
   ]
  },
  {
   "cell_type": "markdown",
   "metadata": {},
   "source": [
    "### **`GroceryItem`** \n",
    "\n",
    "Think of this as designing the shopping list template before going to the store. BaseModel gives us the foundation, Field decorates our items with clear descriptions. This structure helps both humans and AI understand grocery data consistently, and includes several key string inputs:\n",
    "\n",
    "- **`name`** – The specific grocery item to purchase (for example, \"Chicken Breast\").\n",
    "- **`quantity`** – How much to buy in clear measurements (for example, \"2 lbs\", \"1 gallon\").\n",
    "- **`estimated_price`** – The expected cost range for budgeting (for example, \"$8-12\").\n",
    "- **`category`** – Which store section to find it in (for example, \"Meat\", \"Produce\", \"Dairy\").\n"
   ]
  },
  {
   "cell_type": "code",
   "execution_count": null,
   "metadata": {},
   "outputs": [],
   "source": [
    "class GroceryItem(BaseModel):\n",
    "    \"\"\"Individual grocery item\"\"\"\n",
    "    name: str = Field(description=\"Name of the grocery item\")\n",
    "    quantity: str = Field(description=\"Quantity needed (for example, '2 lbs', '1 gallon')\")\n",
    "    estimated_price: str = Field(description=\"Estimated price (for example, '$3-5')\")\n",
    "    category: str = Field(description=\"Store section (for example, 'Produce', 'Dairy')\")"
   ]
  },
  {
   "cell_type": "markdown",
   "metadata": {},
   "source": [
    "We create an instance of a `GroceryItem`, which holds **one specific grocery item** along with its purchase details and store location.  \n",
    "\n",
    "This **standard format** helps our AI shopping organizer stay organized and maintain consistency when creating shopping lists.\n"
   ]
  },
  {
   "cell_type": "code",
   "execution_count": null,
   "metadata": {},
   "outputs": [],
   "source": [
    "sample_item = GroceryItem(\n",
    "    name=\"Chicken Breast\",\n",
    "    quantity=\"2 lbs\",\n",
    "    estimated_price=\"$8-12\",\n",
    "    category=\"Meat\"\n",
    ")"
   ]
  },
  {
   "cell_type": "markdown",
   "metadata": {},
   "source": [
    "The result is essentially a **JSON object** or a **Python dictionary**.  \n",
    "\n",
    "Without formatting, our `sample_item` displays as:\n"
   ]
  },
  {
   "cell_type": "code",
   "execution_count": null,
   "metadata": {},
   "outputs": [],
   "source": [
    "sample_item"
   ]
  },
  {
   "cell_type": "code",
   "execution_count": null,
   "metadata": {},
   "outputs": [],
   "source": [
    "type(sample_item)"
   ]
  },
  {
   "cell_type": "markdown",
   "metadata": {},
   "source": [
    "We can use the `display` function to **view the output in a much cleaner format**, especially noting its **organized, readable structure**. Since this is a single grocery item, all fields become clearly visible—**each property shows exactly what information our AI agents will work with**.\n"
   ]
  },
  {
   "cell_type": "code",
   "execution_count": null,
   "metadata": {},
   "outputs": [],
   "source": [
    "# Display structured data\n",
    "print(\"🛒 Sample Grocery Item Structure:\")\n",
    "display(JSON(sample_item.model_dump()))"
   ]
  },
  {
   "cell_type": "markdown",
   "metadata": {},
   "source": [
    "This class lets us **create multiple grocery items**. Here, we're generating a **sample grocery item for chicken breast** so we can demonstrate how individual items are structured.\n",
    "\n",
    "You can create multiple grocery items to build complete shopping lists:\n",
    "- The first might cover proteins - essential ingredients for main dishes\n",
    "- The second could focus on vegetables that provide nutrition and flavor  \n",
    "- A third might include pantry staples such as rice or cooking oils\n"
   ]
  },
  {
   "cell_type": "markdown",
   "metadata": {},
   "source": [
    "### **`MealPlan`** \n",
    "\n",
    "It represents a complete meal with all the details needed for cooking, including:\n",
    "\n",
    "- **`meal_name`** – The name of the dish being prepared (for example, \"Chicken Stir Fry\").\n",
    "- **`difficulty_level`** – How challenging it is to cook (\"Easy\", \"Medium\", \"Hard\").\n",
    "- **`servings`** – Number of people the meal will feed (integer value).\n",
    "- **`researched_ingredients`** – List of ingredients found through AI research (note this is a list).\n"
   ]
  },
  {
   "cell_type": "code",
   "execution_count": null,
   "metadata": {},
   "outputs": [],
   "source": [
    "class MealPlan(BaseModel):\n",
    "    \"\"\"Simple meal plan\"\"\"\n",
    "    meal_name: str = Field(description=\"Name of the meal\")\n",
    "    difficulty_level: str = Field(description=\"'Easy', 'Medium', 'Hard'\")\n",
    "    servings: int = Field(description=\"Number of people it serves\")\n",
    "    researched_ingredients: List[str] = Field(description=\"Ingredients found through research\")"
   ]
  },
  {
   "cell_type": "markdown",
   "metadata": {},
   "source": [
    "Similarly, we can create an instance of a `MealPlan`, which holds **one complete meal** along with its cooking difficulty and researched ingredient list.  \n"
   ]
  },
  {
   "cell_type": "code",
   "execution_count": null,
   "metadata": {},
   "outputs": [],
   "source": [
    "sample_meal = MealPlan(\n",
    "    meal_name=\"Chicken Stir Fry\",\n",
    "    difficulty_level=\"Easy\",\n",
    "    servings=4,\n",
    "    researched_ingredients=[\"chicken breast\", \"broccoli\", \"bell peppers\", \"garlic\", \"soy sauce\", \"rice\"]\n",
    ")"
   ]
  },
  {
   "cell_type": "code",
   "execution_count": null,
   "metadata": {},
   "outputs": [],
   "source": [
    "sample_meal"
   ]
  },
  {
   "cell_type": "code",
   "execution_count": null,
   "metadata": {},
   "outputs": [],
   "source": [
    "print(\"\\n🍽️ Sample Meal Plan Structure:\")\n",
    "display(JSON(sample_meal.model_dump()))"
   ]
  },
  {
   "cell_type": "markdown",
   "metadata": {},
   "source": [
    "### **`ShoppingCategory`** \n",
    "\n",
    "It organizes items by store layout for efficient shopping, containing:\n",
    "\n",
    "- **`section_name`** – The store department name (for example, \"Produce\", \"Meat & Poultry\").\n",
    "- **`items`** – A collection of GroceryItem objects in this section (note this is a list).\n",
    "- **`estimated_total`** – The expected cost for all items in this category.\n"
   ]
  },
  {
   "cell_type": "code",
   "execution_count": null,
   "metadata": {},
   "outputs": [],
   "source": [
    "class ShoppingCategory(BaseModel):\n",
    "    \"\"\"Store section with items\"\"\"\n",
    "    section_name: str = Field(description=\"Store section (for example, 'Produce', 'Dairy')\")\n",
    "    items: List[GroceryItem] = Field(description=\"Items in this section\")\n",
    "    estimated_total: str = Field(description=\"Estimated cost for this section\")"
   ]
  },
  {
   "cell_type": "markdown",
   "metadata": {},
   "source": [
    "Below, we create an instance of a `ShoppingCategory`, which holds **one store section** along with multiple grocery items and a cost estimate.  \n",
    "Notice how `items: List[GroceryItem]` allows us to **group multiple grocery items together** - this is where our individual `GroceryItem` objects get organized by store layout. Instead of a single item, we can include an entire list of items that belong in the same store section, making shopping more efficient.\n"
   ]
  },
  {
   "cell_type": "code",
   "execution_count": null,
   "metadata": {},
   "outputs": [],
   "source": [
    "sample_section = ShoppingCategory(\n",
    "    section_name=\"Produce\",\n",
    "    items=[\n",
    "        GroceryItem(name=\"Bell Peppers\", quantity=\"3 pieces\", estimated_price=\"$3-4\", category=\"Produce\"),\n",
    "        GroceryItem(name=\"Onions\", quantity=\"2 lbs\", estimated_price=\"$2-3\", category=\"Produce\")\n",
    "    ],\n",
    "    estimated_total=\"$5-7\"\n",
    ")"
   ]
  },
  {
   "cell_type": "code",
   "execution_count": null,
   "metadata": {},
   "outputs": [],
   "source": [
    "print(\"\\n🏪 Sample Shopping Section:\")\n",
    "display(JSON(sample_section.model_dump()))"
   ]
  },
  {
   "cell_type": "markdown",
   "metadata": {},
   "source": [
    "### **`GroceryShoppingPlan`** \n",
    "\n",
    "It is the master plan that combines everything into a complete shopping strategy:\n",
    "\n",
    "- **`total_budget`** – The overall spending limit for the shopping trip.\n",
    "- **`meal_plans`** – Collection of meals being prepared (note this is a list).\n",
    "- **`shopping_sections`** – Organized categories for store navigation (note this is a list).\n",
    "- **`shopping_tips`** – Money-saving advice and practical suggestions (note this is a list).\n"
   ]
  },
  {
   "cell_type": "code",
   "execution_count": null,
   "metadata": {},
   "outputs": [],
   "source": [
    "class GroceryShoppingPlan(BaseModel):\n",
    "    \"\"\"Complete simplified shopping plan\"\"\"\n",
    "    total_budget: str = Field(description=\"Total planned budget\")\n",
    "    meal_plans: List[MealPlan] = Field(description=\"Planned meals\")\n",
    "    shopping_sections: List[ShoppingCategory] = Field(description=\"Organized by store sections\")\n",
    "    shopping_tips: List[str] = Field(description=\"Money-saving and efficiency tips\")"
   ]
  },
  {
   "cell_type": "markdown",
   "metadata": {},
   "source": [
    "We can create a `GroceryShoppingPlan` object—this represents the **complete shopping strategy**, compiled from the meal plans and shopping sections we've created. Below is the just an example of how it looks and **not an executable code**.\n"
   ]
  },
  {
   "cell_type": "raw",
   "metadata": {},
   "source": [
    "weekly_shopping_plan = GroceryShoppingPlan(\n",
    "    total_budget=\"$40-50\",\n",
    "    meal_plans=[breakfast_meal, lunch_meal, dinner_meal],  # List of MealPlan objects\n",
    "    shopping_sections=[dairy_section, meat_section, pantry_section, produce_section],  # List of ShoppingCategory objects\n",
    "    shopping_tips=[...]\n",
    ")"
   ]
  },
  {
   "cell_type": "markdown",
   "metadata": {},
   "source": [
    "## Setting Up Our LLM and Essential Tools  \n",
    "\n",
    "We set up our **LLM (Large Language Model)**—this can be **any model** based on our needs. Here, we are going to use **Granite 3.3**. \n",
    "\n",
    "> This lab uses LLM provided by **IBM WatsonX**. This environment has been configured to allow LLM use without API keys so you can prompt them for **free (with limitations)**. With that in mind, if you wish to run this notebook **locally outside** of Skills Network's JupyterLab environment, you will have to **configure your own API keys**. Please note that using your own API keys means that you will incur personal charges. \n"
   ]
  },
  {
   "cell_type": "code",
   "execution_count": null,
   "metadata": {},
   "outputs": [],
   "source": [
    "%%capture\n",
    "\n",
    "from crewai_tools import SerperDevTool\n",
    "from crewai import Agent, Task, Crew, Process\n",
    "from crewai import LLM \n",
    "\n",
    "# Initialize LLM\n",
    "llm = LLM(\n",
    "    model=\"watsonx/ibm/granite-3-3-8b-instruct\",\n",
    "    base_url=\"https://us-south.ml.cloud.ibm.com\",\n",
    "    project_id=\"skills-network\",\n",
    ")"
   ]
  },
  {
   "cell_type": "markdown",
   "metadata": {},
   "source": [
    "### Setting Up SerperDevTool  \n",
    "\n",
    "**What is Serper?**  \n",
    "Serper is a Google Search API that provides real-time web search capabilities to AI applications. It acts as a bridge between our AI agents and the vast information available on the internet.\n",
    "\n",
    "**Why are we using Serper in our workflow?**  \n",
    "Our meal planning agents need access to current recipe information, ingredient prices, cooking techniques, and dietary alternatives. Without web access, our AI would be limited to outdated training data and couldn't find the latest recipes or seasonal ingredient information that makes meal planning practical and relevant.\n",
    "\n",
    "**How will we use Serper?**  \n",
    "Our `meal_planner` agent will use Serper to:\n",
    "- Search for recipes that match specific dietary restrictions (for example, \"gluten-free chicken stir fry\").\n",
    "- Find cooking techniques appropriate for different skill levels (for example, \"beginner-friendly stir fry methods\").\n",
    "- Research ingredient substitutions and alternatives.\n",
    "- Check for seasonal availability and pricing information.\n",
    "\n",
    "To use `SerperDevTool`, we first need an **API key**—a crucial credential that grants access to web searches. Once we have the API key, we can import the library and integrate it into our meal planning workflow.  \n",
    "\n",
    "> You will need to get the API Key from `serper.dev` website. To get the API key, create an account using your email if you have registered or login if you already have an account. Once you are logged in, you will be on the `Dashboard` section. Click on `API Keys` and you will find your API key. Copy the key and replace it with `API_KEY` here.\n",
    "\n",
    "To get the API key and for more details on `SerperDevTool` and its capabilities, visit the official webpage: [SerperDevTool Documentation](https://serper.dev/).\n"
   ]
  },
  {
   "cell_type": "code",
   "execution_count": null,
   "metadata": {},
   "outputs": [],
   "source": [
    "# Set up search tool (you'll need to add your API key)\n",
    "os.environ['SERPER_API_KEY'] = 'API_KEY'  # Replace with actual key"
   ]
  },
  {
   "cell_type": "markdown",
   "metadata": {},
   "source": [
    "#### Meal and Grocery Planning Workflow Overview\n",
    "\n",
    "![image (3).png](https://cf-courses-data.s3.us.cloud-object-storage.appdomain.cloud/0crjoLc3Yn0JefQoJVUarA/image%20-3-.png)\n"
   ]
  },
  {
   "cell_type": "markdown",
   "metadata": {},
   "source": [
    "## Creating Our AI Agent Workflow with CrewAI\n",
    "\n",
    "We are going to use **CrewAI** to create our intelligent meal planning workflow. CrewAI allows us to build teams of specialized AI agents that work together seamlessly. We'll start by creating our first agent.\n",
    "\n",
    "### Defining Our Meal Planning Agent  \n",
    "We are creating our first **AI meal planning specialist**, responsible for researching recipes and creating detailed meal plans.  \n",
    "- **Role and Goal** – The agent is assigned a clear identity as a \"Meal Planner & Recipe Researcher\" with the specific purpose of finding optimal recipes, ensuring focused culinary research.  \n",
    "- **Backstory** – This provides context for how the agent approaches meal planning tasks, much like defining expertise in a professional chef or nutritionist who considers dietary needs and skill levels.  \n",
    "- **Tools** – The agent is equipped with web search capabilities through `SerperDevTool()`, enabling access to real-time recipe information, cooking tips, and ingredient data.  \n",
    "- **Verbose Mode (`verbose=False`)** – Stops detailed logs of the agent's thought process, keeping output clean and focused.\n"
   ]
  },
  {
   "cell_type": "code",
   "execution_count": null,
   "metadata": {},
   "outputs": [],
   "source": [
    "meal_planner = Agent(\n",
    "    role=\"Meal Planner & Recipe Researcher\",\n",
    "    goal=\"Search for optimal recipes and create detailed meal plans\",\n",
    "    backstory=\"A skilled meal planner who researches the best recipes online, considering dietary needs, cooking skill levels, and budget constraints.\",\n",
    "    tools=[SerperDevTool()],\n",
    "    llm=llm,\n",
    "    verbose=False\n",
    ")"
   ]
  },
  {
   "cell_type": "markdown",
   "metadata": {},
   "source": [
    "### Defining Our Meal Planning Task\n",
    "\n",
    "**What is a Task in CrewAI?**  \n",
    "A Task in CrewAI is a specific assignment given to an AI agent. It defines what the agent should do, what inputs it will receive, and what output is expected. Tasks are the building blocks that turn AI agents into productive team members with clear responsibilities.\n",
    "\n",
    "We are assigning a structured meal planning task to our AI agent, ensuring clear expectations and a standardized output format. The `{meal_name}`, `{servings}`, `{budget}`, `{dietary_restrictions}`, and `{cooking_skill}` placeholders make the task dynamic and reusable, allowing it to adapt to different meal requests and personal preferences. Additionally, the results are getting saved in \"meals.json\" which is optional.\n"
   ]
  },
  {
   "cell_type": "code",
   "execution_count": null,
   "metadata": {},
   "outputs": [],
   "source": [
    "meal_planning_task = Task(\n",
    "    description=(\n",
    "        \"Search for the best '{meal_name}' recipe for {servings} people within a {budget} budget. \"\n",
    "        \"Consider dietary restrictions: {dietary_restrictions} and cooking skill level: {cooking_skill}. \"\n",
    "        \"Find recipes that match the skill level and provide complete ingredient lists with quantities.\"\n",
    "    ),\n",
    "    expected_output=\"A detailed meal plan with researched ingredients, quantities, and cooking instructions appropriate for the skill level.\",\n",
    "    agent=meal_planner,\n",
    "    output_pydantic=MealPlan,\n",
    "    output_file=\"meals.json\"\n",
    ")"
   ]
  },
  {
   "cell_type": "markdown",
   "metadata": {},
   "source": [
    "### Creating and Running Our Meal Planning Crew\n",
    "\n",
    "**What is a Crew in CrewAI?**  \n",
    "A Crew is like assembling a team of specialists to work on a project. Just as you might have a chef, a shopping assistant, and a budget manager working together to plan a meal, a CrewAI Crew coordinates multiple AI agents, each with their own tasks, to accomplish a complex workflow. The Crew manages how agents collaborate, share information, and execute their tasks in the right order.\n",
    "\n",
    "We initialize a CrewAI workflow with a single meal planning agent, executing the recipe research task in a sequential process, where the AI gathers structured meal insights for the specified recipe and requirements before storing the results. However, this is only a partial output, as we will later integrate all the Pydantic `BaseModel` objects defined earlier to structure the complete shopping plan.\n"
   ]
  },
  {
   "cell_type": "code",
   "execution_count": null,
   "metadata": {},
   "outputs": [],
   "source": [
    "from crewai import Crew, Process\n",
    "\n",
    "meal_planner_crew = Crew(\n",
    "    agents=[meal_planner],\n",
    "    tasks=[meal_planning_task],\n",
    "    process=Process.sequential,  # Ensures tasks are executed in order\n",
    "    verbose=True\n",
    ")\n",
    "\n",
    "meal_planner_result = meal_planner_crew.kickoff(\n",
    "    inputs={\n",
    "        \"meal_name\": \"Chicken Stir Fry\",\n",
    "        \"servings\": 4,\n",
    "        \"budget\": \"$25\",                           \n",
    "        \"dietary_restrictions\": [\"no nuts\"],       \n",
    "        \"cooking_skill\": \"beginner\"                \n",
    "    }\n",
    ")\n",
    "print(\"✅ Single meal planning completed!\")\n",
    "print(\"📋 Single Meal Results:\")\n",
    "print(meal_planner_result)"
   ]
  },
  {
   "cell_type": "markdown",
   "metadata": {},
   "source": [
    "### Creating Our Shopping Organization Agent\n",
    "\n",
    "Now that we have a meal planner that can research recipes, we need a second specialist to transform those meal plans into organized shopping lists. This is where our **Shopping Organizer** agent comes in.\n",
    "\n",
    "**Why do we need a separate shopping organizer?**\n",
    "- **Specialization**: While the meal planner focuses on recipes and cooking, the shopping organizer specializes in store logistics and efficient shopping\n",
    "- **Store Knowledge**: This agent understands how grocery stores are organized (produce, dairy, meat sections) and can group items accordingly\n",
    "- **Quantity Management**: It can calculate proper quantities for different serving sizes and ensure nothing is forgotten\n",
    "\n",
    "**Key Features of Our Shopping Organizer:**\n",
    "- **No External Tools**: Unlike the meal planner, this agent doesn't need web search - it works with the meal plan data internally\n",
    "- **Store Section Expertise**: Groups items by where you'll find them in the store (produce, dairy, meat, pantry)\n",
    "- **Quantity Calculation**: Ensures proper amounts for the specified number of servings\n",
    "- **Budget Awareness**: Considers the overall budget when organizing the shopping list\n"
   ]
  },
  {
   "cell_type": "code",
   "execution_count": null,
   "metadata": {},
   "outputs": [],
   "source": [
    "shopping_organizer = Agent(\n",
    "    role=\"Shopping Organizer\", \n",
    "    goal=\"Organize grocery lists by store sections efficiently\",\n",
    "    backstory=\"An experienced shopper who knows how to organize lists for quick store trips and considers dietary restrictions.\",\n",
    "    tools=[],\n",
    "    llm=llm,\n",
    "    verbose=False\n",
    ")"
   ]
  },
  {
   "cell_type": "markdown",
   "metadata": {},
   "source": [
    "### Defining the Shopping Organization Task\n",
    "\n",
    "The shopping task is where we connect our meal planning output to our shopping organization needs. This task takes the researched meal plan and transforms it into a practical shopping list.\n",
    "\n",
    "**Key Elements of the Shopping Task:**\n",
    "- **Context Dependency**: Uses `context=[meal_planning_task]` to access the meal planner's output\n",
    "- **Pydantic Output**: Uses `output_pydantic=GroceryShoppingPlan` to ensure structured, validated output\n",
    "- **Store Organization**: Groups ingredients by store sections for efficient shopping\n",
    "- **Budget Integration**: Keeps track of costs and stays within the specified budget\n",
    "\n",
    "**The Power of Context in CrewAI:**\n",
    "When we set `context=[meal_planning_task]`, the shopping organizer can access all the research and ingredients found by the meal planner. This creates a seamless workflow where each agent builds upon the previous agent's work.\n"
   ]
  },
  {
   "cell_type": "code",
   "execution_count": null,
   "metadata": {},
   "outputs": [],
   "source": [
    "shopping_task = Task(\n",
    "    description=(\n",
    "        \"Organize the ingredients from the '{meal_name}' meal plan into a grocery shopping list. \"\n",
    "        \"Group items by store sections and estimate quantities for {servings} people. \"\n",
    "        \"Consider dietary restrictions: {dietary_restrictions} and cooking skill: {cooking_skill}. \"\n",
    "        \"Stay within budget: {budget}.\"\n",
    "    ),\n",
    "    expected_output=\"An organized shopping list grouped by store sections with quantities and prices.\",\n",
    "    agent=shopping_organizer,\n",
    "    context=[meal_planning_task],\n",
    "    output_pydantic=GroceryShoppingPlan,\n",
    "    output_file=\"shopping_list.json\"\n",
    ")"
   ]
  },
  {
   "cell_type": "markdown",
   "metadata": {},
   "source": [
    "### Building Our Two-Agent Grocery Crew\n",
    "\n",
    "Now we're ready to create our first multi-agent workflow. This crew combines both the meal planner and shopping organizer to create a complete meal-to-shopping-list pipeline.\n",
    "\n",
    "**How Multi-Agent Workflows Work:**\n",
    "1. **Sequential Processing**: The `Process.sequential` ensures agents work in order - meal planning first, then shopping organization\n",
    "2. **Data Flow**: The shopping organizer automatically receives the meal planner's output through the task context\n",
    "3. **Structured Output**: The final result follows our `GroceryShoppingPlan` Pydantic model for consistent formatting\n",
    "\n",
    "**Benefits of This Approach:**\n",
    "- **Separation of Concerns**: Each agent has a specific role and expertise\n",
    "- **Reusability**: We can swap out agents or add new ones without changing the overall workflow\n",
    "- **Reliability**: Pydantic ensures our output is always properly structured\n"
   ]
  },
  {
   "cell_type": "code",
   "execution_count": null,
   "metadata": {},
   "outputs": [],
   "source": [
    "two_agent_grocery_crew = Crew(\n",
    "    agents=[meal_planner, shopping_organizer],  # Both agents\n",
    "    tasks=[meal_planning_task, shopping_task],   # Both tasks\n",
    "    process=Process.sequential,\n",
    "    verbose=True\n",
    ")\n",
    "\n",
    "# Run the complete crew (this will do BOTH meal planning AND shopping)\n",
    "shopping_result = two_agent_grocery_crew.kickoff(\n",
    "    inputs={\n",
    "        \"meal_name\": \"Chicken Stir Fry\",\n",
    "        \"servings\": 4,\n",
    "        \"budget\": \"$25\",                           \n",
    "        \"dietary_restrictions\": [\"no nuts\"],      \n",
    "        \"cooking_skill\": \"beginner\"               \n",
    "    }\n",
    ")\n",
    "\n",
    "# Print the shopping results\n",
    "print(\"✅ Complete meal planning + shopping completed!\")\n",
    "print(\"📋 Shopping Results:\")\n",
    "print(shopping_result)"
   ]
  },
  {
   "cell_type": "markdown",
   "metadata": {},
   "source": [
    "### Adding Financial Intelligence with Budget Advisor Agent\n",
    "\n",
    "Our meal planning and shopping organization is great, but we need someone to watch the budget and provide money-saving advice. Enter our **Budget Advisor** - the financial expert of our grocery team.\n",
    "\n",
    "**Why Add a Budget Advisor?**\n",
    "- **Cost Control**: Ensures the shopping plan stays within budget limits\n",
    "- **Price Research**: Uses web search to find current prices and deals\n",
    "- **Smart Alternatives**: Suggests cheaper ingredient substitutions when needed\n",
    "- **Money-Saving Tips**: Provides practical advice for reducing grocery costs\n",
    "\n",
    "**Budget Advisor's Unique Features:**\n",
    "- **Web Search Access**: Uses `SerperDevTool()` to research current prices and deals\n",
    "- **Context Awareness**: Has access to both meal planning and shopping organization results\n",
    "- **Practical Focus**: Provides actionable advice rather than just price estimates\n"
   ]
  },
  {
   "cell_type": "code",
   "execution_count": null,
   "metadata": {},
   "outputs": [],
   "source": [
    "budget_advisor = Agent(\n",
    "    role=\"Budget Advisor\",\n",
    "    goal=\"Provide cost estimates and money-saving tips\",\n",
    "    backstory=\"A budget-conscious shopper who helps families save money on groceries while respecting dietary needs.\",\n",
    "    tools=[SerperDevTool()],\n",
    "    llm=llm,\n",
    "    verbose=False\n",
    ")"
   ]
  },
  {
   "cell_type": "markdown",
   "metadata": {},
   "source": [
    "### Defining the Budget Analysis Task\n",
    "\n",
    "The budget task is our financial checkpoint - it takes the complete shopping plan and adds cost analysis, budget verification, and money-saving recommendations.\n",
    "\n",
    "**What Makes This Task Special:**\n",
    "- **Multiple Context Sources**: Uses `context=[meal_planning_task, shopping_task]` to access both previous outputs\n",
    "- **Financial Analysis**: Calculates total costs and compares against budget limits\n",
    "- **Alternative Suggestions**: Provides cheaper ingredient options when budget is tight\n",
    "- **Practical Tips**: Offers real-world money-saving strategies\n",
    "\n",
    "**The Context Chain:**\n",
    "By now, our budget advisor has access to:\n",
    "1. Original meal research from the meal planner\n",
    "2. Organized shopping lists from the shopping organizer\n",
    "3. Current price data from web searches\n",
    "\n",
    "This creates a comprehensive understanding of the entire grocery shopping scenario.\n"
   ]
  },
  {
   "cell_type": "code",
   "execution_count": null,
   "metadata": {},
   "outputs": [],
   "source": [
    "budget_task = Task(\n",
    "    description=(\n",
    "        \"Analyze the shopping plan for '{meal_name}' serving {servings} people. \"\n",
    "        \"Ensure total cost stays within {budget}. Consider dietary restrictions: {dietary_restrictions}. \"\n",
    "        \"Provide practical money-saving tips and alternative ingredients if needed to meet budget.\"\n",
    "    ),\n",
    "    expected_output=\"A complete shopping guide with detailed prices, budget analysis, and money-saving tips.\",\n",
    "    agent=budget_advisor,\n",
    "    context=[meal_planning_task, shopping_task],\n",
    "    output_file=\"shopping_guide.md\"\n",
    ")"
   ]
  },
  {
   "cell_type": "markdown",
   "metadata": {},
   "source": [
    "###  Using YAML with CrewAI - Food Leftover Agent and Task\n",
    "\n",
    "####  What is YAML?\n",
    "\n",
    "**YAML** (YAML Ain’t Markup Language) is a lightweight, human-readable format for structuring data. It is widely used in configuration files because it:\n",
    "\n",
    "- Is easy to read and write.\n",
    "- Supports nested data structures (for example, lists, dictionaries).\n",
    "- Keeps logic separate from code, ideal for configuration.\n",
    "\n",
    "####  Why Use YAML with CrewAI?\n",
    "\n",
    "CrewAI supports YAML-based configuration for defining:\n",
    "- Agents\n",
    "- Tasks\n",
    "- Crew processes\n",
    "\n",
    "This allows you to:\n",
    "- Quickly iterate on agent/task logic without modifying Python code.\n",
    "- Enable team collaboration (even with non-developers).\n",
    "- Prepare workflows for production deployment.\n",
    "\n",
    "#### What Can You Define in YAML?\n",
    "\n",
    "In YAML you can define te following:\n",
    "\n",
    "- **Agents**: Roles, goals, backstories, tools, verbosity, and more\n",
    "- **Tasks**: Task descriptions, expected outputs, assigned agents, and dependencies\n",
    "- **Crew**: The execution flow (for example, `sequential`, `hierarchical`)\n",
    "\n",
    "#### YAML Example: Meal Planning Crew\n",
    "\n",
    "#### `agents.yaml`\n",
    "![image (1).png](https://cf-courses-data.s3.us.cloud-object-storage.appdomain.cloud/K-z4IjZnpV2pnhiAGpSvmw/image%20-1-.png)\n",
    "\n",
    "#### `tasks.yaml`\n",
    "![image (2).png](https://cf-courses-data.s3.us.cloud-object-storage.appdomain.cloud/HJ7axigzuQu8tdRR4UQMCg/image%20-2-.png)\n"
   ]
  },
  {
   "cell_type": "markdown",
   "metadata": {},
   "source": [
    "Here, we have already created a YAML file for food leftover agent and task for your convenience. You can download it using below code.\n"
   ]
  },
  {
   "cell_type": "code",
   "execution_count": null,
   "metadata": {},
   "outputs": [],
   "source": [
    "!wget \"https://cf-courses-data.s3.us.cloud-object-storage.appdomain.cloud/-5NXnHGkX1WG81tqE8kSTg/agents.yaml\""
   ]
  },
  {
   "cell_type": "code",
   "execution_count": null,
   "metadata": {},
   "outputs": [],
   "source": [
    "!wget \"https://cf-courses-data.s3.us.cloud-object-storage.appdomain.cloud/7fhq1KPxi7cuqjOCBgcmXQ/tasks.yaml\""
   ]
  },
  {
   "cell_type": "markdown",
   "metadata": {},
   "source": [
    "> On the left of your screen you can notice the file manager. In that we have the downloaded .yaml files. Double-click on them to open it in the new window to see how the agent and task are configured. \n"
   ]
  },
  {
   "cell_type": "markdown",
   "metadata": {},
   "source": [
    "Let's move the downloaded `agent.yaml` and `tasks.yaml` under `config` folder.\n"
   ]
  },
  {
   "cell_type": "code",
   "execution_count": null,
   "metadata": {},
   "outputs": [],
   "source": [
    "%mkdir -p config\n",
    "%mv agents.yaml  config/agents.yaml\n",
    "%mv tasks.yaml   config/tasks.yaml"
   ]
  },
  {
   "cell_type": "markdown",
   "metadata": {},
   "source": [
    "> Note, for convenience we already created a separate `leftover.py` which has the `CrewBase` class which we already downloaded at the beginning of the lab.\n"
   ]
  },
  {
   "cell_type": "markdown",
   "metadata": {},
   "source": [
    "### Using CrewBase and Decorators with CrewAI\n",
    "\n",
    "#### What is `@CrewBase`?\n",
    "In CrewAI, `@CrewBase` is a Python class decorator that automates the collection and wiring of your agents and tasks — especially when you're organizing your crew logic in Python, YAML or hybrid config (YAML + code). Basically, when we have the following:\n",
    "\n",
    "```python\n",
    "from crewai.project import CrewBase\n",
    "from crewai.project.annotations import agent, task\n",
    "\n",
    "@CrewBase\n",
    "class myCrew:\n",
    "    ...\n",
    "```\n",
    "It tells CrewAI that: This class defines the agents, tasks, and crew I want to run. Please find them automatically and wire everything together.\n",
    "\n",
    "You might think that we already defined separate Agent, Task and Crew why do we need CrewBase? We need it because this can get repetitive and hard to manage as your app grows. That’s where `@CrewBase` shines.\n",
    "\n",
    "---\n",
    "\n",
    "#### Why use `@CrewBase` + decorators?\n",
    "- **Auto-discovers** methods decorated with @agent, @task, and @crew inside the class\n",
    "- **Loads config** automatically from YAML (if present)\n",
    "- Keeps everything **modular**, **scalable**, and **clean** for production setups\n",
    "\n",
    "---\n",
    "\n",
    "#### Decorators overview\n",
    "- CrewAI provides several decorators that are used to mark methods within your crew class for special handling.\n",
    "| Decorator           | Marks…                                            |\n",
    "| :------------------ | :----------------------------------------------- |\n",
    "| `@CrewBase`         | The class that holds your agents & tasks         |\n",
    "| `@agent`            | A method that returns an `Agent` object          |\n",
    "| `@task`             | A method that returns a `Task` object            |\n",
    "| `@crew`             | (Optional) A method that returns a `Crew` object |\n",
    "| `@before_kickoff`   | (Optional) Runs once **before** the crew starts  |\n",
    "| `@after_kickoff`    | (Optional) Runs once **after** the crew finishes |\n",
    "\n",
    "> The **CrewBase class**, along with these decorators, automates the collection of agents and tasks, reducing the need for manual management.\n"
   ]
  },
  {
   "cell_type": "markdown",
   "metadata": {},
   "source": [
    "### How `@CrewBase` Works with YAML in This Project\n",
    "\n",
    "CrewAI's `@CrewBase` decorator works seamlessly with YAML files, pure Python, or a hybrid setup — and in our case, we're using the hybrid approach to demonstrate how it all comes together.\n",
    "\n",
    "So, what's happening here is:\n",
    "- The `@agent` method is loading the agent config from the YAML file via: `self.agents_config[\"leftover_manager\"]` and returns an Agent object.\n",
    "- Similarly, the `@task` method does: `self.tasks_config[\"leftover_task\"]` and returns a Task object, linked to the `leftover_manager`.\n",
    "\n",
    "In our Jupyter notebook, we import the `LeftoverCrew` class which allows us to access the Agent and Task objects that were dynamically constructed using YAML-based config.\n",
    "\n",
    "---\n",
    "\n",
    "#### Why YAML Location Matters?\n",
    "The `@CrewBase` class (under the hood) looks for default YAML files under a `config/` directory. That’s why we needed to place our `agents.yaml` and `tasks.yaml` inside a `config/` folder — otherwise CrewAI wouldn’t find them automatically.\n",
    "\n",
    "---\n",
    "\n",
    "#### Why We Needed a .py File?\n",
    "The @CrewBase class and its decorators such as `@agent`, `@task`, and `@crew` do not work in Jupyter notebooks due to how the CrewAI framework relies on Python’s inspection tools. What it means is CrewAI uses Python’s `inspect` module to find the file path of the class:\n",
    "```python\n",
    "Path(inspect.getfile(cls)).parent\n",
    "```\n",
    "This works fine when the class is defined in a regular `.py` file.\n",
    "\n",
    "But in Jupyter notebooks:\n",
    "- Classes are defined in cells, not .py files.\n",
    "- `inspect.getfile(cls)` fails because there is no real source file.\n",
    "- As a result, CrewAI cannot determine the base directory, and throws an error.\n",
    "\n",
    "To fix this, we moved the crew class into a separate `.py` file (leftover.py).\n"
   ]
  },
  {
   "cell_type": "markdown",
   "metadata": {},
   "source": [
    "Here is how the `@CrewBase` class from `leftover.py` looks:\n",
    "\n",
    "![image.png](https://cf-courses-data.s3.us.cloud-object-storage.appdomain.cloud/36nCxdNoEA3stoy9uM5WaQ/image.png)\n"
   ]
  },
  {
   "cell_type": "code",
   "execution_count": null,
   "metadata": {},
   "outputs": [],
   "source": [
    "from leftover import LeftoversCrew\n",
    "\n",
    "leftovers_cb = LeftoversCrew(llm=llm)\n",
    "yaml_leftover_manager = leftovers_cb.leftover_manager()\n",
    "yaml_leftover_task    = leftovers_cb.leftover_task()"
   ]
  },
  {
   "cell_type": "markdown",
   "metadata": {},
   "source": [
    "> 💡 **Note:** While `@CrewBase` makes your agent/task management easier, it wraps your class behind the scenes.\n",
    ">\n",
    "> That means:\n",
    "> - You can't always use `__init__()` or pass custom objects like in normal Python classes.\n",
    "> - Testing and debugging `@CrewBase` classes inside Jupyter notebooks can be tricky due to how Jupyter handles decorators and dynamic reloading.\n",
    ">\n",
    "> 📁 For stability, define your `@CrewBase` classes in separate `.py` files instead of notebooks. This makes CrewAI's configuration loading and agent resolution work reliably.\n",
    ">\n",
    "> 🔍 See the [CrewAI documentation](https://docs.crewai.com/) for full details on how `@CrewBase` works.\n"
   ]
  },
  {
   "cell_type": "markdown",
   "metadata": {},
   "source": [
    "### Defining Our Summary Agent and Task\n",
    "\n",
    "To manage all the content generated by the agents, we will now create one final agent and its corresponding task which will gather all the content and create a detailed summary. \n"
   ]
  },
  {
   "cell_type": "code",
   "execution_count": null,
   "metadata": {},
   "outputs": [],
   "source": [
    "summary_agent = Agent(\n",
    "    role=\"Report Compiler\",\n",
    "    goal=\"Compile comprehensive meal planning reports from all team outputs\",\n",
    "    backstory=\"A skilled coordinator who organizes information from multiple specialists into comprehensive, easy-to-follow reports.\",\n",
    "    tools=[],\n",
    "    llm=llm,\n",
    "    verbose=False\n",
    ")"
   ]
  },
  {
   "cell_type": "code",
   "execution_count": null,
   "metadata": {},
   "outputs": [],
   "source": [
    "summary_task = Task(\n",
    "    description=(\n",
    "        \"Compile a comprehensive meal planning report that includes:\\n\"\n",
    "        \"1. The complete recipe and cooking instructions from the meal planner\\n\"\n",
    "        \"2. The organized shopping list with prices from the shopping organizer\\n\"\n",
    "        \"3. The budget analysis and money-saving tips from the budget advisor\\n\"\n",
    "        \"4. The leftover management suggestions from the waste reduction specialist\\n\"\n",
    "        \"Format this as a complete, user-friendly meal planning guide.\"\n",
    "    ),\n",
    "    expected_output=\"A comprehensive meal planning guide that combines all team outputs into one cohesive report.\",\n",
    "    agent=summary_agent,\n",
    "    context=[meal_planning_task, shopping_task, budget_task, yaml_leftover_task],\n",
    ")"
   ]
  },
  {
   "cell_type": "markdown",
   "metadata": {},
   "source": [
    "### Assembling Our Complete Grocery Planning Team\n",
    "\n",
    "Next, we bring together all five specialists into one powerful grocery planning crew. This represents our complete end-to-end solution from meal idea to comprehensive shopping guide with zero-waste strategies.\n",
    "\n",
    "**Our Five-Agent Team:**\n",
    "1. **Meal Planner**: Researches recipes and creates meal plans\n",
    "2. **Shopping Organizer**: Transforms meal plans into organized shopping lists  \n",
    "3. **Budget Advisor**: Adds financial analysis and money-saving strategies\n",
    "4. **Leftover Manager**: Minimizes food waste by suggesting creative uses for leftover ingredients\n",
    "5. **Report Compiler**: Consolidates all outputs into one comprehensive, user-friendly guide\n"
   ]
  },
  {
   "cell_type": "code",
   "execution_count": null,
   "metadata": {},
   "outputs": [],
   "source": [
    "complete_grocery_crew = Crew(\n",
    "    agents=[\n",
    "        meal_planner,           \n",
    "        shopping_organizer,      \n",
    "        budget_advisor,         \n",
    "        yaml_leftover_manager,  # YAML-based leftover manager\n",
    "        summary_agent           # New summary agent\n",
    "    ],\n",
    "    tasks=[\n",
    "        meal_planning_task,     \n",
    "        shopping_task,          \n",
    "        budget_task,            \n",
    "        yaml_leftover_task,    # YAML-based leftover task\n",
    "        summary_task            # New summary task\n",
    "    ],\n",
    "    process=Process.sequential,\n",
    "    verbose=True\n",
    ")"
   ]
  },
  {
   "cell_type": "markdown",
   "metadata": {},
   "source": [
    "### Executing Our Complete Grocery Planning Workflow\n",
    "\n",
    "It's now time to put our five-agent team to work! We're going to run the complete workflow with more detailed inputs to demonstrate the full capabilities of our system.\n",
    "\n",
    "**Enhanced Input Parameters:**\n",
    "- **Multiple Dietary Restrictions**: `[\"no nuts\", \"low sodium\"]` shows how the system handles complex dietary needs\n",
    "- **Skill Level Consideration**: `\"beginner\"` ensures recipe complexity matches cooking ability\n",
    "- **Budget Constraints**: `\"$25\"` provides a realistic budget limit for practical planning\n",
    "- **Serving Size**: `4 people` for family meal planning\n",
    "- **Meal Focus**:`Chicken Stir Fry` as our target dish\n",
    "\n",
    "**What Happens During Execution:**\n",
    "1. **Meal Planner** searches for beginner-friendly, nut-free, low-sodium chicken stir fry recipes\n",
    "2. **Shopping Organizer** creates a structured shopping list organized by store sections\n",
    "3. **Budget Advisor** analyzes costs, ensures budget compliance, and provides money-saving tips\n",
    "4. **Leftover Manager** identifies ingredients that might result in leftovers and suggests creative bonus recipes to minimize waste and maximize the grocery budget\n",
    "5. **Report Compiler** consolidates all outputs into one comprehensive, user-friendly guide with clear sections for easy reference\n",
    "\n",
    "The result is a comprehensive grocery shopping guide that considers all your constraints and preferences.\n"
   ]
  },
  {
   "cell_type": "code",
   "execution_count": null,
   "metadata": {},
   "outputs": [],
   "source": [
    "# Run the complete crew\n",
    "complete_result = complete_grocery_crew.kickoff(\n",
    "    inputs={\n",
    "        \"meal_name\": \"Chicken Stir Fry\",\n",
    "        \"servings\": 4,\n",
    "        \"budget\": \"$25\",\n",
    "        \"dietary_restrictions\": [\"no nuts\", \"low sodium\"],\n",
    "        \"cooking_skill\": \"beginner\"\n",
    "    }\n",
    ")\n",
    "\n",
    "print(\"✅ Complete meal planning with summary completed!\")\n",
    "print(\"📋 Complete Results:\")\n",
    "print(complete_result)"
   ]
  },
  {
   "cell_type": "markdown",
   "metadata": {},
   "source": [
    "### Understanding Your Complete Grocery Shopping Guide\n",
    "\n",
    "Congratulations! You've successfully created an AI-powered grocery shopping assistant that transforms a simple meal request into a comprehensive shopping strategy.\n",
    "\n",
    "**What You've Accomplished:**\n",
    "- **Automated Recipe Research**: No more browsing endless recipes online\n",
    "- **Organized Shopping Lists**: Items grouped by store sections for efficient shopping\n",
    "- **Budget Management**: Cost analysis and money-saving recommendations\n",
    "- **Dietary Compliance**: All suggestions respect your dietary restrictions and cooking skill level\n",
    "- **Waste Reduction**: Creative leftover management with bonus recipes to maximize your grocery budget\n",
    "- **Comprehensive Reporting**: All information compiled into one easy-to-follow guide\n",
    "\n",
    "**Next Steps:**\n",
    "You can now adapt this framework for any cuisine, dietary need, or budget constraint. Try different meal requests, adjust serving sizes, experiment with various dietary restrictions, or test different cooking skill levels to see how the system adapts. The five-agent team will handle everything from recipe research to waste reduction, ensuring you get maximum value from every grocery trip.\n"
   ]
  },
  {
   "cell_type": "markdown",
   "metadata": {},
   "source": [
    "# Exercises\n",
    "\n",
    "It's now time to apply what you've learned! These exercises will help you extend the grocery planning system and understand how to adapt it for different scenarios.\n"
   ]
  },
  {
   "cell_type": "markdown",
   "metadata": {},
   "source": [
    "### Exercise 1 - Create a Specialized Dietary Agent\n",
    "\n",
    "**Objective:** \n",
    "\n",
    "Add a fourth agent that specializes in dietary analysis and nutritional recommendations.\n",
    "\n",
    "**Create a new agent called nutrition_analyst that:**\n",
    "* Analyzes the nutritional content of meal plans.\n",
    "* Suggests healthier alternatives when needed.\n",
    "* Provides calorie and macronutrient estimates.\n",
    "* Considers specific dietary goals (weight loss, muscle building, etc).\n",
    "\n",
    "**Requirements:**\n",
    "1. Create the agent with appropriate role, goal, and backstory\n",
    "2. Define a task that analyzes the meal plan for nutritional value\n",
    "3. Add it to your crew workflow\n",
    "4. Test it with a meal request that includes nutritional goals\n"
   ]
  },
  {
   "cell_type": "code",
   "execution_count": null,
   "metadata": {},
   "outputs": [],
   "source": [
    "# Your code here\n",
    "nutrition_analyst = Agent(\n",
    "    role=\"\",  # TODO: Define the role\n",
    "    goal=\"\",  # TODO: Define the goal  \n",
    "    backstory=\"\",  # TODO: Create backstory\n",
    "    tools=[],  # TODO: Add appropriate tools\n",
    "    llm=llm,\n",
    "    verbose=False\n",
    ")\n",
    "\n",
    "# TODO: Create nutrition analysis task\n",
    "# TODO: Add to crew and test"
   ]
  },
  {
   "cell_type": "markdown",
   "metadata": {},
   "source": [
    "<details>\n",
    "    <summary>Click here for the solution</summary>\n",
    "\n",
    "```python\n",
    "nutrition_analyst = Agent(\n",
    "    role=\"Nutrition Analyst & Health Advisor\",\n",
    "    goal=\"Analyze meal nutritional content and provide healthy recommendations\",\n",
    "    backstory=\"A certified nutritionist who evaluates meals for nutritional balance, calorie content, and health optimization while respecting dietary restrictions.\",\n",
    "    tools=[SerperDevTool()],\n",
    "    llm=llm,\n",
    "    verbose=False\n",
    ")\n",
    "\n",
    "nutrition_task = Task(\n",
    "    description=(\n",
    "        \"Analyze the nutritional content of the '{meal_name}' meal plan for {servings} people. \"\n",
    "        \"Calculate approximate calories, protein, carbs, and fats. Consider dietary restrictions: {dietary_restrictions}. \"\n",
    "        \"Provide healthy alternatives if the meal could be more nutritious while staying within {budget}.\"\n",
    "    ),\n",
    "    expected_output=\"Nutritional analysis with calorie estimates, macronutrient breakdown, and healthy improvement suggestions.\",\n",
    "    agent=nutrition_analyst,\n",
    "    context=[meal_planning_task, shopping_task, budget_task],\n",
    "    output_file=\"nutrition_analysis.md\"\n",
    ")\n",
    "\n",
    "# Test with expanded crew\n",
    "health_focused_crew = Crew(\n",
    "    agents=[meal_planner, shopping_organizer, budget_advisor, nutrition_analyst, yaml_leftover_manager, summary_agent],\n",
    "    tasks=[meal_planning_task, shopping_task, budget_task, nutrition_task, yaml_leftover_task, summary_task],\n",
    "    process=Process.sequential,\n",
    "    verbose=True\n",
    ")\n",
    "\n",
    "result = health_focused_crew.kickoff(\n",
    "    inputs={\n",
    "        \"meal_name\": \"Quinoa Buddha Bowl\",\n",
    "        \"servings\": 2,\n",
    "        \"budget\": \"$20\",\n",
    "        \"dietary_restrictions\": [\"vegetarian\", \"high protein\"],\n",
    "        \"cooking_skill\": \"intermediate\"\n",
    "    }\n",
    ")\n",
    "```\n",
    "</details>\n"
   ]
  },
  {
   "cell_type": "markdown",
   "metadata": {},
   "source": [
    "### Exercise 2 - Extend Pydantic Models for Weekly Planning\n",
    "\n",
    "**Objective:**\n",
    "\n",
    "Modify the existing Pydantic models to handle weekly meal planning instead of single meals.\n",
    "\n",
    "**Create new Pydantic models that can handle:**\n",
    "\n",
    "* Multiple meals across a week.\n",
    "* Different meal types (breakfast, lunch, dinner).\n",
    "* Weekly budget distribution.\n",
    "* Bulk shopping optimization.\n",
    "\n",
    "**Requirements:**\n",
    "\n",
    "1. Create a WeeklyMealPlan model\n",
    "2. Create a MealType enum (breakfast, lunch, dinner)\n",
    "3. Modify GroceryShoppingPlan to handle weekly shopping\n",
    "4. Test with a week's worth of meals\n"
   ]
  },
  {
   "cell_type": "code",
   "execution_count": null,
   "metadata": {},
   "outputs": [],
   "source": [
    "from enum import Enum\n",
    "from typing import Dict\n",
    "\n",
    "# TODO: Create MealType enum\n",
    "class MealType(str, Enum):\n",
    "    # Add meal types here\n",
    "    pass\n",
    "\n",
    "# TODO: Create WeeklyMealPlan model\n",
    "class WeeklyMealPlan(BaseModel):\n",
    "    # Add fields for weekly planning\n",
    "    pass\n",
    "\n",
    "# TODO: Create WeeklyGroceryPlan model\n",
    "class WeeklyGroceryPlan(BaseModel):\n",
    "    # Extend GroceryShoppingPlan for weekly use\n",
    "    pass\n",
    "\n",
    "# TODO: Test your models"
   ]
  },
  {
   "cell_type": "markdown",
   "metadata": {},
   "source": [
    "<details>\n",
    "    <summary>Click here for the solution</summary>\n",
    "\n",
    "```python\n",
    "from enum import Enum\n",
    "from typing import Dict\n",
    "\n",
    "class MealType(str, Enum):\n",
    "    BREAKFAST = \"breakfast\"\n",
    "    LUNCH = \"lunch\" \n",
    "    DINNER = \"dinner\"\n",
    "    SNACK = \"snack\"\n",
    "\n",
    "class DailyMeals(BaseModel):\n",
    "    \"\"\"Meals for one day\"\"\"\n",
    "    date: str = Field(description=\"Date in YYYY-MM-DD format\")\n",
    "    breakfast: Optional[MealPlan] = Field(description=\"Breakfast meal plan\")\n",
    "    lunch: Optional[MealPlan] = Field(description=\"Lunch meal plan\") \n",
    "    dinner: Optional[MealPlan] = Field(description=\"Dinner meal plan\")\n",
    "    snacks: Optional[List[MealPlan]] = Field(description=\"Snack meal plans\")\n",
    "\n",
    "class WeeklyMealPlan(BaseModel):\n",
    "    \"\"\"Complete weekly meal planning\"\"\"\n",
    "    week_start_date: str = Field(description=\"Start date of the week\")\n",
    "    daily_meals: List[DailyMeals] = Field(description=\"Meals for each day\")\n",
    "    weekly_themes: List[str] = Field(description=\"Cooking themes for the week\")\n",
    "    prep_suggestions: List[str] = Field(description=\"Meal prep recommendations\")\n",
    "\n",
    "class WeeklyGroceryPlan(BaseModel):\n",
    "    \"\"\"Weekly grocery shopping strategy\"\"\"\n",
    "    weekly_budget: str = Field(description=\"Total weekly budget\")\n",
    "    meal_plans: List[DailyMeals] = Field(description=\"All weekly meals\")\n",
    "    shopping_sections: List[ShoppingCategory] = Field(description=\"Organized by store sections\")\n",
    "    bulk_items: List[GroceryItem] = Field(description=\"Items to buy in bulk\")\n",
    "    shopping_tips: List[str] = Field(description=\"Weekly shopping efficiency tips\")\n",
    "    budget_breakdown: Dict[str, str] = Field(description=\"Daily budget allocation\")\n",
    "\n",
    "# Test the models\n",
    "sample_weekly_plan = WeeklyMealPlan(\n",
    "    week_start_date=\"2024-01-15\",\n",
    "    daily_meals=[\n",
    "        DailyMeals(\n",
    "            date=\"2024-01-15\",\n",
    "            breakfast=MealPlan(meal_name=\"Oatmeal\", difficulty_level=\"Easy\", servings=2, researched_ingredients=[\"oats\", \"milk\", \"berries\"]),\n",
    "            lunch=MealPlan(meal_name=\"Salad\", difficulty_level=\"Easy\", servings=2, researched_ingredients=[\"lettuce\", \"tomatoes\", \"dressing\"]),\n",
    "            dinner=MealPlan(meal_name=\"Pasta\", difficulty_level=\"Medium\", servings=2, researched_ingredients=[\"pasta\", \"sauce\", \"cheese\"])\n",
    "        )\n",
    "    ],\n",
    "    weekly_themes=[\"Italian Monday\", \"Taco Tuesday\"],\n",
    "    prep_suggestions=[\"Wash vegetables on Sunday\", \"Cook grains in bulk\"]\n",
    ")\n",
    "\n",
    "display(JSON(sample_weekly_plan.model_dump()))\n",
    "```\n",
    "</details>\n"
   ]
  },
  {
   "cell_type": "markdown",
   "metadata": {},
   "source": [
    "## Authors\n"
   ]
  },
  {
   "cell_type": "markdown",
   "metadata": {},
   "source": [
    "[Karan Goswami](https://author.skills.network/instructors/karan_goswami)\n"
   ]
  },
  {
   "cell_type": "markdown",
   "metadata": {},
   "source": [
    "### Other Contributors\n"
   ]
  },
  {
   "cell_type": "markdown",
   "metadata": {},
   "source": [
    "[Tenzin Migmar](https://author.skills.network/instructors/tenzin_migmar)\n",
    "\n",
    "[Jigisha Barbhaya](https://author.skills.network/instructors/jigisha_barbhaya)\n",
    "\n",
    "[Joseph Santarcangelo](https://author.skills.network/instructors/joseph_santarcangelo)\n"
   ]
  },
  {
   "cell_type": "markdown",
   "metadata": {},
   "source": [
    "## Change Log\n",
    "\n",
    "<details>\n",
    "    <summary>Click here for the changelog</summary>\n",
    "\n",
    "|Date (YYYY-MM-DD)|Version|Changed By|Change Description|\n",
    "|-|-|-|-|\n",
    "|2025-07-25|0.1|Karan Goswami|Initial version created|\n",
    "|2025-07-26|0.2|Steve Ryan|ID review and format fixes|\n",
    "|2025-07-28|0.3|Leah Hanson|QA review and grammar fixes|\n",
    "\n",
    "</details>\n",
    "\n",
    "---\n",
    "\n",
    "\n",
    "Copyright © IBM Corporation. All rights reserved.\n"
   ]
  },
  {
   "cell_type": "code",
   "execution_count": null,
   "metadata": {},
   "outputs": [],
   "source": []
  }
 ],
 "metadata": {
  "kernelspec": {
   "display_name": "Python 3 (ipykernel)",
   "language": "python",
   "name": "python3"
  },
  "language_info": {
   "codemirror_mode": {
    "name": "ipython",
    "version": 3
   },
   "file_extension": ".py",
   "mimetype": "text/x-python",
   "name": "python",
   "nbconvert_exporter": "python",
   "pygments_lexer": "ipython3",
   "version": "3.12.8"
  },
  "prev_pub_hash": "e1cd9e1484a1320053bdab0aa23b2862fbfc19225904aa2d0464f59c215665d6"
 },
 "nbformat": 4,
 "nbformat_minor": 4
}
